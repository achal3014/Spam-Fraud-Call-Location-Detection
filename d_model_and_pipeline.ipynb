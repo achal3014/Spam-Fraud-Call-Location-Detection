{
 "cells": [
  {
   "cell_type": "code",
   "execution_count": 442,
   "metadata": {},
   "outputs": [],
   "source": [
    "import numpy as np\n",
    "import pandas as pd\n",
    "import re\n",
    "# from tqdm import tqdm\n",
    "# from scipy.sparse import csr_matrix\n",
    "from sklearn.model_selection import train_test_split\n",
    "from imblearn.over_sampling import RandomOverSampler\n",
    "from sklearn.pipeline import Pipeline\n",
    "from sklearn import set_config\n",
    "from sklearn.base import BaseEstimator, TransformerMixin\n",
    "from sklearn.preprocessing import StandardScaler, OneHotEncoder\n",
    "from sklearn.impute import SimpleImputer\n",
    "from sklearn.feature_extraction.text import TfidfVectorizer\n",
    "from sklearn.ensemble import RandomForestClassifier\n",
    "from sklearn.compose import ColumnTransformer\n"
   ]
  },
  {
   "cell_type": "code",
   "execution_count": 443,
   "metadata": {},
   "outputs": [
    {
     "name": "stdout",
     "output_type": "stream",
     "text": [
      "<class 'pandas.core.frame.DataFrame'>\n",
      "RangeIndex: 17590 entries, 0 to 17589\n",
      "Data columns (total 7 columns):\n",
      " #   Column                   Non-Null Count  Dtype \n",
      "---  ------                   --------------  ----- \n",
      " 0   Caller Number            17590 non-null  object\n",
      " 1   Call Time                17590 non-null  object\n",
      " 2   Call Duration(in s)      17590 non-null  int64 \n",
      " 3   Call Frequency Per Day   17590 non-null  int64 \n",
      " 4   Call Frequency Per Week  17590 non-null  int64 \n",
      " 5   Call Type                17590 non-null  object\n",
      " 6   Conversation             17590 non-null  object\n",
      "dtypes: int64(3), object(4)\n",
      "memory usage: 962.1+ KB\n"
     ]
    }
   ],
   "source": [
    "c_fraud_df = pd.read_csv(\"corrected_names.csv\")\n",
    "c_fraud_df.info()"
   ]
  },
  {
   "cell_type": "code",
   "execution_count": 444,
   "metadata": {},
   "outputs": [
    {
     "data": {
      "text/plain": [
       "Caller Number                      object\n",
       "Call Time                  datetime64[ns]\n",
       "Call Duration(in s)                 int64\n",
       "Call Frequency Per Day              int64\n",
       "Call Frequency Per Week             int64\n",
       "Call Type                          object\n",
       "Conversation                       object\n",
       "dtype: object"
      ]
     },
     "execution_count": 444,
     "metadata": {},
     "output_type": "execute_result"
    }
   ],
   "source": [
    "c_fraud_df['Call Time'] = pd.to_datetime(c_fraud_df['Call Time'], format='%H:%M:%S')\n",
    "c_fraud_df.dtypes"
   ]
  },
  {
   "cell_type": "code",
   "execution_count": 445,
   "metadata": {},
   "outputs": [
    {
     "data": {
      "text/html": [
       "<div>\n",
       "<style scoped>\n",
       "    .dataframe tbody tr th:only-of-type {\n",
       "        vertical-align: middle;\n",
       "    }\n",
       "\n",
       "    .dataframe tbody tr th {\n",
       "        vertical-align: top;\n",
       "    }\n",
       "\n",
       "    .dataframe thead th {\n",
       "        text-align: right;\n",
       "    }\n",
       "</style>\n",
       "<table border=\"1\" class=\"dataframe\">\n",
       "  <thead>\n",
       "    <tr style=\"text-align: right;\">\n",
       "      <th></th>\n",
       "      <th>Caller Number</th>\n",
       "      <th>Call Time</th>\n",
       "      <th>Call Duration(in s)</th>\n",
       "      <th>Call Frequency Per Day</th>\n",
       "      <th>Call Frequency Per Week</th>\n",
       "      <th>Call Type</th>\n",
       "      <th>Conversation</th>\n",
       "    </tr>\n",
       "  </thead>\n",
       "  <tbody>\n",
       "    <tr>\n",
       "      <th>0</th>\n",
       "      <td>+1-917-555-3286</td>\n",
       "      <td>1900-01-01 08:50:33</td>\n",
       "      <td>62</td>\n",
       "      <td>3</td>\n",
       "      <td>25</td>\n",
       "      <td>Normal</td>\n",
       "      <td>Hope. Since ago travelled, he has forgotten hi...</td>\n",
       "    </tr>\n",
       "    <tr>\n",
       "      <th>1</th>\n",
       "      <td>+1-205-795-8028</td>\n",
       "      <td>1900-01-01 17:05:53</td>\n",
       "      <td>78</td>\n",
       "      <td>3</td>\n",
       "      <td>31</td>\n",
       "      <td>Normal</td>\n",
       "      <td>Horrible you eat mass eat until u forgot about...</td>\n",
       "    </tr>\n",
       "    <tr>\n",
       "      <th>2</th>\n",
       "      <td>+1-702-412-9422</td>\n",
       "      <td>1900-01-01 16:29:51</td>\n",
       "      <td>55</td>\n",
       "      <td>4</td>\n",
       "      <td>7</td>\n",
       "      <td>Normal</td>\n",
       "      <td>Great! I have to run now so tell!</td>\n",
       "    </tr>\n",
       "    <tr>\n",
       "      <th>3</th>\n",
       "      <td>+1-915-426-2998</td>\n",
       "      <td>1900-01-01 17:36:33</td>\n",
       "      <td>48</td>\n",
       "      <td>9</td>\n",
       "      <td>14</td>\n",
       "      <td>Normal</td>\n",
       "      <td>Sorry, I'll call later</td>\n",
       "    </tr>\n",
       "    <tr>\n",
       "      <th>4</th>\n",
       "      <td>+1-915-543-9437</td>\n",
       "      <td>1900-01-01 20:19:36</td>\n",
       "      <td>262</td>\n",
       "      <td>3</td>\n",
       "      <td>16</td>\n",
       "      <td>Normal</td>\n",
       "      <td>May wants to work out first, how's 4 sound?</td>\n",
       "    </tr>\n",
       "  </tbody>\n",
       "</table>\n",
       "</div>"
      ],
      "text/plain": [
       "     Caller Number           Call Time  Call Duration(in s)  \\\n",
       "0  +1-917-555-3286 1900-01-01 08:50:33                   62   \n",
       "1  +1-205-795-8028 1900-01-01 17:05:53                   78   \n",
       "2  +1-702-412-9422 1900-01-01 16:29:51                   55   \n",
       "3  +1-915-426-2998 1900-01-01 17:36:33                   48   \n",
       "4  +1-915-543-9437 1900-01-01 20:19:36                  262   \n",
       "\n",
       "   Call Frequency Per Day  Call Frequency Per Week Call Type  \\\n",
       "0                       3                       25    Normal   \n",
       "1                       3                       31    Normal   \n",
       "2                       4                        7    Normal   \n",
       "3                       9                       14    Normal   \n",
       "4                       3                       16    Normal   \n",
       "\n",
       "                                        Conversation  \n",
       "0  Hope. Since ago travelled, he has forgotten hi...  \n",
       "1  Horrible you eat mass eat until u forgot about...  \n",
       "2                  Great! I have to run now so tell!  \n",
       "3                             Sorry, I'll call later  \n",
       "4        May wants to work out first, how's 4 sound?  "
      ]
     },
     "execution_count": 445,
     "metadata": {},
     "output_type": "execute_result"
    }
   ],
   "source": [
    "c_fraud_df.head()"
   ]
  },
  {
   "cell_type": "markdown",
   "metadata": {},
   "source": [
    "## Splitting the data"
   ]
  },
  {
   "cell_type": "code",
   "execution_count": 446,
   "metadata": {},
   "outputs": [],
   "source": [
    "from sklearn.model_selection import train_test_split\n",
    "\n",
    "def split_data_stratified(X, y, test_size=0.2, eval_size=0.1, random_state=42):\n",
    "    \n",
    "    X_train, X_temp, y_train, y_temp = train_test_split(\n",
    "        X, y, test_size=test_size + eval_size, random_state=random_state, stratify=y)\n",
    "    \n",
    "    X_eval, X_test, y_eval, y_test = train_test_split(\n",
    "        X_temp, y_temp, test_size=test_size / (test_size + eval_size), random_state=random_state, stratify=y_temp)\n",
    "    \n",
    "    del X_temp,y_temp\n",
    "    \n",
    "    return X_train, X_eval, X_test, y_train, y_eval, y_test\n"
   ]
  },
  {
   "cell_type": "code",
   "execution_count": 447,
   "metadata": {},
   "outputs": [],
   "source": [
    "#Dividing columns to features and labels\n",
    "y = c_fraud_df['Call Type']\n",
    "X = c_fraud_df.drop(columns='Call Type', axis=1)"
   ]
  },
  {
   "cell_type": "code",
   "execution_count": 448,
   "metadata": {},
   "outputs": [],
   "source": [
    "X_train, X_eval, X_test, y_train, y_eval, y_test = split_data_stratified(X,y)\n",
    "X_train = X_train.reset_index(drop=True)\n",
    "X_test = X_test.reset_index(drop=True)\n",
    "\n",
    "y_train = y_train.reset_index(drop=True)\n",
    "y_test = y_test.reset_index(drop=True)"
   ]
  },
  {
   "cell_type": "code",
   "execution_count": 449,
   "metadata": {},
   "outputs": [
    {
     "data": {
      "text/html": [
       "<div>\n",
       "<style scoped>\n",
       "    .dataframe tbody tr th:only-of-type {\n",
       "        vertical-align: middle;\n",
       "    }\n",
       "\n",
       "    .dataframe tbody tr th {\n",
       "        vertical-align: top;\n",
       "    }\n",
       "\n",
       "    .dataframe thead th {\n",
       "        text-align: right;\n",
       "    }\n",
       "</style>\n",
       "<table border=\"1\" class=\"dataframe\">\n",
       "  <thead>\n",
       "    <tr style=\"text-align: right;\">\n",
       "      <th></th>\n",
       "      <th>Caller Number</th>\n",
       "      <th>Call Time</th>\n",
       "      <th>Call Duration(in s)</th>\n",
       "      <th>Call Frequency Per Day</th>\n",
       "      <th>Call Frequency Per Week</th>\n",
       "      <th>Conversation</th>\n",
       "    </tr>\n",
       "  </thead>\n",
       "  <tbody>\n",
       "    <tr>\n",
       "      <th>0</th>\n",
       "      <td>+1-917-436-9480</td>\n",
       "      <td>1900-01-01 12:02:10</td>\n",
       "      <td>1325</td>\n",
       "      <td>5</td>\n",
       "      <td>10</td>\n",
       "      <td>whiskey Brandy Sum In Beer Vodka Scotch Shampa...</td>\n",
       "    </tr>\n",
       "    <tr>\n",
       "      <th>1</th>\n",
       "      <td>+1-718-745-1135</td>\n",
       "      <td>1900-01-01 12:05:16</td>\n",
       "      <td>1572</td>\n",
       "      <td>12</td>\n",
       "      <td>30</td>\n",
       "      <td>He detected a failed login attempt on your ba...</td>\n",
       "    </tr>\n",
       "    <tr>\n",
       "      <th>2</th>\n",
       "      <td>+1-213-329-9734</td>\n",
       "      <td>1900-01-01 22:06:51</td>\n",
       "      <td>445</td>\n",
       "      <td>1</td>\n",
       "      <td>26</td>\n",
       "      <td>Up to you, you want come then come for... But ...</td>\n",
       "    </tr>\n",
       "    <tr>\n",
       "      <th>3</th>\n",
       "      <td>+1-628-329-7445</td>\n",
       "      <td>1900-01-01 21:20:38</td>\n",
       "      <td>243</td>\n",
       "      <td>5</td>\n",
       "      <td>17</td>\n",
       "      <td>My Anna is breaking me out. The's looked thou ...</td>\n",
       "    </tr>\n",
       "    <tr>\n",
       "      <th>4</th>\n",
       "      <td>+1-417-861-6252</td>\n",
       "      <td>1900-01-01 09:32:34</td>\n",
       "      <td>373</td>\n",
       "      <td>4</td>\n",
       "      <td>16</td>\n",
       "      <td>Key are you angry with me. Reply me dr.</td>\n",
       "    </tr>\n",
       "  </tbody>\n",
       "</table>\n",
       "</div>"
      ],
      "text/plain": [
       "     Caller Number           Call Time  Call Duration(in s)  \\\n",
       "0  +1-917-436-9480 1900-01-01 12:02:10                 1325   \n",
       "1  +1-718-745-1135 1900-01-01 12:05:16                 1572   \n",
       "2  +1-213-329-9734 1900-01-01 22:06:51                  445   \n",
       "3  +1-628-329-7445 1900-01-01 21:20:38                  243   \n",
       "4  +1-417-861-6252 1900-01-01 09:32:34                  373   \n",
       "\n",
       "   Call Frequency Per Day  Call Frequency Per Week  \\\n",
       "0                       5                       10   \n",
       "1                      12                       30   \n",
       "2                       1                       26   \n",
       "3                       5                       17   \n",
       "4                       4                       16   \n",
       "\n",
       "                                        Conversation  \n",
       "0  whiskey Brandy Sum In Beer Vodka Scotch Shampa...  \n",
       "1   He detected a failed login attempt on your ba...  \n",
       "2  Up to you, you want come then come for... But ...  \n",
       "3  My Anna is breaking me out. The's looked thou ...  \n",
       "4            Key are you angry with me. Reply me dr.  "
      ]
     },
     "execution_count": 449,
     "metadata": {},
     "output_type": "execute_result"
    }
   ],
   "source": [
    "X_train.head()"
   ]
  },
  {
   "cell_type": "code",
   "execution_count": 450,
   "metadata": {},
   "outputs": [
    {
     "data": {
      "text/plain": [
       "Caller Number                      object\n",
       "Call Time                  datetime64[ns]\n",
       "Call Duration(in s)                 int64\n",
       "Call Frequency Per Day              int64\n",
       "Call Frequency Per Week             int64\n",
       "Conversation                       object\n",
       "dtype: object"
      ]
     },
     "execution_count": 450,
     "metadata": {},
     "output_type": "execute_result"
    }
   ],
   "source": [
    "X_train.dtypes"
   ]
  },
  {
   "cell_type": "markdown",
   "metadata": {},
   "source": [
    "## Oversampling Data to handle data imbalance"
   ]
  },
  {
   "cell_type": "code",
   "execution_count": 451,
   "metadata": {},
   "outputs": [
    {
     "name": "stdout",
     "output_type": "stream",
     "text": [
      "1206\n",
      "325\n"
     ]
    }
   ],
   "source": [
    "a = y_train.eq('Spam').sum()\n",
    "b = y_train.eq('Scam').sum()\n",
    "print(a)\n",
    "print(b)"
   ]
  },
  {
   "cell_type": "code",
   "execution_count": 452,
   "metadata": {},
   "outputs": [],
   "source": [
    "rsa = RandomOverSampler( sampling_strategy={'Spam': 1757,'Scam':683},random_state=42)\n",
    "\n",
    "X_resampled, y_resampled = rsa.fit_resample(X_train, y_train)"
   ]
  },
  {
   "cell_type": "code",
   "execution_count": 453,
   "metadata": {},
   "outputs": [
    {
     "data": {
      "text/html": [
       "<div>\n",
       "<style scoped>\n",
       "    .dataframe tbody tr th:only-of-type {\n",
       "        vertical-align: middle;\n",
       "    }\n",
       "\n",
       "    .dataframe tbody tr th {\n",
       "        vertical-align: top;\n",
       "    }\n",
       "\n",
       "    .dataframe thead th {\n",
       "        text-align: right;\n",
       "    }\n",
       "</style>\n",
       "<table border=\"1\" class=\"dataframe\">\n",
       "  <thead>\n",
       "    <tr style=\"text-align: right;\">\n",
       "      <th></th>\n",
       "      <th>Caller Number</th>\n",
       "      <th>Call Time</th>\n",
       "      <th>Call Duration(in s)</th>\n",
       "      <th>Call Frequency Per Day</th>\n",
       "      <th>Call Frequency Per Week</th>\n",
       "      <th>Conversation</th>\n",
       "    </tr>\n",
       "  </thead>\n",
       "  <tbody>\n",
       "    <tr>\n",
       "      <th>0</th>\n",
       "      <td>+1-917-436-9480</td>\n",
       "      <td>1900-01-01 12:02:10</td>\n",
       "      <td>1325</td>\n",
       "      <td>5</td>\n",
       "      <td>10</td>\n",
       "      <td>whiskey Brandy Sum In Beer Vodka Scotch Shampa...</td>\n",
       "    </tr>\n",
       "    <tr>\n",
       "      <th>1</th>\n",
       "      <td>+1-718-745-1135</td>\n",
       "      <td>1900-01-01 12:05:16</td>\n",
       "      <td>1572</td>\n",
       "      <td>12</td>\n",
       "      <td>30</td>\n",
       "      <td>He detected a failed login attempt on your ba...</td>\n",
       "    </tr>\n",
       "    <tr>\n",
       "      <th>2</th>\n",
       "      <td>+1-213-329-9734</td>\n",
       "      <td>1900-01-01 22:06:51</td>\n",
       "      <td>445</td>\n",
       "      <td>1</td>\n",
       "      <td>26</td>\n",
       "      <td>Up to you, you want come then come for... But ...</td>\n",
       "    </tr>\n",
       "    <tr>\n",
       "      <th>3</th>\n",
       "      <td>+1-628-329-7445</td>\n",
       "      <td>1900-01-01 21:20:38</td>\n",
       "      <td>243</td>\n",
       "      <td>5</td>\n",
       "      <td>17</td>\n",
       "      <td>My Anna is breaking me out. The's looked thou ...</td>\n",
       "    </tr>\n",
       "    <tr>\n",
       "      <th>4</th>\n",
       "      <td>+1-417-861-6252</td>\n",
       "      <td>1900-01-01 09:32:34</td>\n",
       "      <td>373</td>\n",
       "      <td>4</td>\n",
       "      <td>16</td>\n",
       "      <td>Key are you angry with me. Reply me dr.</td>\n",
       "    </tr>\n",
       "  </tbody>\n",
       "</table>\n",
       "</div>"
      ],
      "text/plain": [
       "     Caller Number           Call Time  Call Duration(in s)  \\\n",
       "0  +1-917-436-9480 1900-01-01 12:02:10                 1325   \n",
       "1  +1-718-745-1135 1900-01-01 12:05:16                 1572   \n",
       "2  +1-213-329-9734 1900-01-01 22:06:51                  445   \n",
       "3  +1-628-329-7445 1900-01-01 21:20:38                  243   \n",
       "4  +1-417-861-6252 1900-01-01 09:32:34                  373   \n",
       "\n",
       "   Call Frequency Per Day  Call Frequency Per Week  \\\n",
       "0                       5                       10   \n",
       "1                      12                       30   \n",
       "2                       1                       26   \n",
       "3                       5                       17   \n",
       "4                       4                       16   \n",
       "\n",
       "                                        Conversation  \n",
       "0  whiskey Brandy Sum In Beer Vodka Scotch Shampa...  \n",
       "1   He detected a failed login attempt on your ba...  \n",
       "2  Up to you, you want come then come for... But ...  \n",
       "3  My Anna is breaking me out. The's looked thou ...  \n",
       "4            Key are you angry with me. Reply me dr.  "
      ]
     },
     "execution_count": 453,
     "metadata": {},
     "output_type": "execute_result"
    }
   ],
   "source": [
    "X_resampled.head()"
   ]
  },
  {
   "cell_type": "code",
   "execution_count": 454,
   "metadata": {},
   "outputs": [
    {
     "data": {
      "text/plain": [
       "0    Normal\n",
       "1      Scam\n",
       "2    Normal\n",
       "3    Normal\n",
       "4    Normal\n",
       "Name: Call Type, dtype: object"
      ]
     },
     "execution_count": 454,
     "metadata": {},
     "output_type": "execute_result"
    }
   ],
   "source": [
    "y_resampled.head()"
   ]
  },
  {
   "cell_type": "markdown",
   "metadata": {},
   "source": [
    "## Pipelining\n"
   ]
  },
  {
   "cell_type": "markdown",
   "metadata": {},
   "source": [
    "Function to create two new columns as decided in preprocessing steps i.e Area Code, Hour and Binned Hour values\n"
   ]
  },
  {
   "cell_type": "code",
   "execution_count": 455,
   "metadata": {},
   "outputs": [],
   "source": [
    "class AddAreaCodeDropNumber(BaseEstimator, TransformerMixin):\n",
    "    def fit(self, X, y=None):\n",
    "        return self\n",
    "\n",
    "    def transform(self, X):\n",
    "        # Ensure X is a DataFrame\n",
    "        X = X.copy()\n",
    "        \n",
    "        X['Area Code'] = X['Caller Number'].str[3:6]\n",
    "\n",
    "        def clean_phone_number(phone_number):\n",
    "            cleaned_number = re.sub(r'[^0-9]', '', phone_number)\n",
    "            return cleaned_number[-7:]\n",
    "\n",
    "        X['PhNoLastDig'] = X['Caller Number'].apply(clean_phone_number)\n",
    "\n",
    "        X['Area Code'] = X['Area Code'].astype(int)\n",
    "        X['PhNoLastDig'] = X['PhNoLastDig'].astype(int)\n",
    "        \n",
    "        X.drop(columns=['Caller Number'], inplace=True)\n",
    "        \n",
    "        \n",
    "        return X\n"
   ]
  },
  {
   "cell_type": "code",
   "execution_count": 456,
   "metadata": {},
   "outputs": [],
   "source": [
    "class AddHourDropTime(BaseEstimator, TransformerMixin):\n",
    "    def fit(self,X,y = None):\n",
    "        return self\n",
    "    \n",
    "    def transform(self, X):\n",
    "        X = X.copy()\n",
    "\n",
    "        X['Hour'] = X['Call Time'].dt.hour.astype(int)\n",
    "\n",
    "        X.drop(columns='Call Time', inplace=True)\n",
    "\n",
    "        return X"
   ]
  },
  {
   "cell_type": "code",
   "execution_count": 457,
   "metadata": {},
   "outputs": [],
   "source": [
    "class TimeOfDayTransformer(BaseEstimator, TransformerMixin):\n",
    "\n",
    "    def fit(self, X, y=None):\n",
    "        return self\n",
    "\n",
    "    def transform(self, X):\n",
    "        X = X.copy()\n",
    "\n",
    "        if 'Hour' not in X.columns:\n",
    "            raise ValueError(\"The input DataFrame must contain an 'Hour' column.\")\n",
    "\n",
    "        X['TimeOfDay'] = pd.cut(X['Hour'], bins=[0, 7, 9, 12, 15, 17, 20, 23], labels=['0-7', '7-9', '9-12', '12-15','15-17','17-20','20-23'], right=False)\n",
    "\n",
    "        \n",
    "\n",
    "        return X"
   ]
  },
  {
   "cell_type": "markdown",
   "metadata": {},
   "source": [
    "Function to split dataset into numerical and categorical datasets to build separate pipelines"
   ]
  },
  {
   "cell_type": "code",
   "execution_count": 458,
   "metadata": {},
   "outputs": [],
   "source": [
    "numerical_columns_df = X.select_dtypes(include=['number'])\n",
    "categorical_columns_df = X.select_dtypes(include=['category', 'bool'])\n",
    "text_columns_df = X.select_dtypes(include=['object'])"
   ]
  },
  {
   "cell_type": "code",
   "execution_count": 459,
   "metadata": {},
   "outputs": [],
   "source": [
    "numerical_transformer = Pipeline(steps=[\n",
    "    ('Imputation_median',SimpleImputer(missing_values=np.nan,strategy='median')),\n",
    "    ('scaler', StandardScaler())\n",
    "])"
   ]
  },
  {
   "cell_type": "code",
   "execution_count": 460,
   "metadata": {},
   "outputs": [],
   "source": [
    "categorical_transformer = Pipeline(steps=[\n",
    "    ('Text_imputation', SimpleImputer(fill_value='', strategy='constant')),\n",
    "    ('OneHot',OneHotEncoder())\n",
    "])"
   ]
  },
  {
   "cell_type": "code",
   "execution_count": 461,
   "metadata": {},
   "outputs": [],
   "source": [
    "text_transformer = Pipeline(steps=[\n",
    "    ('vectorizer', TfidfVectorizer())  # Convert text data into TF-IDF features\n",
    "])"
   ]
  },
  {
   "cell_type": "code",
   "execution_count": null,
   "metadata": {},
   "outputs": [],
   "source": [
    "final_pipeline = Pipeline(steps=[\n",
    "    ('Add_AreaCode_Column', AddAreaCodeDropNumber()),\n",
    "    ('Add_Hour_Column', AddHourDropTime()),\n",
    "    ('Add_time_binned', TimeOfDayTransformer()),\n",
    "])"
   ]
  },
  {
   "cell_type": "code",
   "execution_count": 463,
   "metadata": {},
   "outputs": [],
   "source": [
    "preprocessor = ColumnTransformer(\n",
    "    transformers=[\n",
    "        ('num', numerical_transformer, numerical_columns_df),\n",
    "        ('cat', categorical_transformer, categorical_columns_df),\n",
    "        ('text', text_transformer, text_columns_df)\n",
    "    ]\n",
    ")"
   ]
  },
  {
   "cell_type": "code",
   "execution_count": 464,
   "metadata": {},
   "outputs": [],
   "source": [
    "# X_transformed = final_pipeline.fit_transform(X_resampled)\n",
    "# X_transformed_df = pd.DataFrame(X_transformed)\n",
    "# X_transformed_df.head()"
   ]
  },
  {
   "cell_type": "code",
   "execution_count": 465,
   "metadata": {},
   "outputs": [],
   "source": [
    "# X_transformed.dtypes"
   ]
  },
  {
   "cell_type": "code",
   "execution_count": 466,
   "metadata": {},
   "outputs": [],
   "source": [
    "set_config(display=\"diagram\")"
   ]
  }
 ],
 "metadata": {
  "kernelspec": {
   "display_name": "myenv",
   "language": "python",
   "name": "python3"
  },
  "language_info": {
   "codemirror_mode": {
    "name": "ipython",
    "version": 3
   },
   "file_extension": ".py",
   "mimetype": "text/x-python",
   "name": "python",
   "nbconvert_exporter": "python",
   "pygments_lexer": "ipython3",
   "version": "3.12.7"
  }
 },
 "nbformat": 4,
 "nbformat_minor": 2
}
