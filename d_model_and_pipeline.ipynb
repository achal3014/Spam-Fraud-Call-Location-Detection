{
 "cells": [
  {
   "cell_type": "code",
   "execution_count": 1,
   "metadata": {},
   "outputs": [],
   "source": [
    "import numpy as np\n",
    "import pandas as pd\n",
    "import re\n",
    "# from tqdm import tqdm\n",
    "# from scipy.sparse import csr_matrix\n",
    "from sklearn.model_selection import train_test_split\n",
    "from imblearn.over_sampling import RandomOverSampler\n",
    "from sklearn.pipeline import Pipeline\n",
    "from sklearn import set_config\n",
    "from sklearn.base import BaseEstimator, TransformerMixin, ClassifierMixin\n",
    "from sklearn.preprocessing import StandardScaler, OneHotEncoder\n",
    "from sklearn.impute import SimpleImputer\n",
    "from sklearn.feature_extraction.text import TfidfVectorizer\n",
    "from sklearn.ensemble import RandomForestClassifier\n",
    "from sklearn.compose import ColumnTransformer\n",
    "from nltk.corpus import stopwords\n",
    "from nltk.stem.porter import PorterStemmer\n",
    "from sklearn.metrics import f1_score, accuracy_score\n",
    "import joblib\n"
   ]
  },
  {
   "cell_type": "code",
   "execution_count": 2,
   "metadata": {},
   "outputs": [
    {
     "name": "stdout",
     "output_type": "stream",
     "text": [
      "<class 'pandas.core.frame.DataFrame'>\n",
      "RangeIndex: 17590 entries, 0 to 17589\n",
      "Data columns (total 7 columns):\n",
      " #   Column                   Non-Null Count  Dtype \n",
      "---  ------                   --------------  ----- \n",
      " 0   Caller Number            17590 non-null  object\n",
      " 1   Call Time                17590 non-null  object\n",
      " 2   Call Duration(in s)      17590 non-null  int64 \n",
      " 3   Call Frequency Per Day   17590 non-null  int64 \n",
      " 4   Call Frequency Per Week  17590 non-null  int64 \n",
      " 5   Call Type                17590 non-null  object\n",
      " 6   Conversation             17590 non-null  object\n",
      "dtypes: int64(3), object(4)\n",
      "memory usage: 962.1+ KB\n"
     ]
    }
   ],
   "source": [
    "c_fraud_df = pd.read_csv(\"corrected_names.csv\")\n",
    "c_fraud_df.info()"
   ]
  },
  {
   "cell_type": "code",
   "execution_count": 3,
   "metadata": {},
   "outputs": [
    {
     "data": {
      "text/plain": [
       "Caller Number              object\n",
       "Call Time                  object\n",
       "Call Duration(in s)         int64\n",
       "Call Frequency Per Day      int64\n",
       "Call Frequency Per Week     int64\n",
       "Call Type                  object\n",
       "Conversation               object\n",
       "dtype: object"
      ]
     },
     "execution_count": 3,
     "metadata": {},
     "output_type": "execute_result"
    }
   ],
   "source": [
    "c_fraud_df.dtypes"
   ]
  },
  {
   "cell_type": "code",
   "execution_count": 4,
   "metadata": {},
   "outputs": [
    {
     "data": {
      "text/html": [
       "<div>\n",
       "<style scoped>\n",
       "    .dataframe tbody tr th:only-of-type {\n",
       "        vertical-align: middle;\n",
       "    }\n",
       "\n",
       "    .dataframe tbody tr th {\n",
       "        vertical-align: top;\n",
       "    }\n",
       "\n",
       "    .dataframe thead th {\n",
       "        text-align: right;\n",
       "    }\n",
       "</style>\n",
       "<table border=\"1\" class=\"dataframe\">\n",
       "  <thead>\n",
       "    <tr style=\"text-align: right;\">\n",
       "      <th></th>\n",
       "      <th>Caller Number</th>\n",
       "      <th>Call Time</th>\n",
       "      <th>Call Duration(in s)</th>\n",
       "      <th>Call Frequency Per Day</th>\n",
       "      <th>Call Frequency Per Week</th>\n",
       "      <th>Call Type</th>\n",
       "      <th>Conversation</th>\n",
       "    </tr>\n",
       "  </thead>\n",
       "  <tbody>\n",
       "    <tr>\n",
       "      <th>0</th>\n",
       "      <td>+1-917-555-3286</td>\n",
       "      <td>08:50:33</td>\n",
       "      <td>62</td>\n",
       "      <td>3</td>\n",
       "      <td>25</td>\n",
       "      <td>Normal</td>\n",
       "      <td>Hope. Since ago travelled, he has forgotten hi...</td>\n",
       "    </tr>\n",
       "    <tr>\n",
       "      <th>1</th>\n",
       "      <td>+1-205-795-8028</td>\n",
       "      <td>17:05:53</td>\n",
       "      <td>78</td>\n",
       "      <td>3</td>\n",
       "      <td>31</td>\n",
       "      <td>Normal</td>\n",
       "      <td>Horrible you eat mass eat until u forgot about...</td>\n",
       "    </tr>\n",
       "    <tr>\n",
       "      <th>2</th>\n",
       "      <td>+1-702-412-9422</td>\n",
       "      <td>16:29:51</td>\n",
       "      <td>55</td>\n",
       "      <td>4</td>\n",
       "      <td>7</td>\n",
       "      <td>Normal</td>\n",
       "      <td>Great! I have to run now so tell!</td>\n",
       "    </tr>\n",
       "    <tr>\n",
       "      <th>3</th>\n",
       "      <td>+1-915-426-2998</td>\n",
       "      <td>17:36:33</td>\n",
       "      <td>48</td>\n",
       "      <td>9</td>\n",
       "      <td>14</td>\n",
       "      <td>Normal</td>\n",
       "      <td>Sorry, I'll call later</td>\n",
       "    </tr>\n",
       "    <tr>\n",
       "      <th>4</th>\n",
       "      <td>+1-915-543-9437</td>\n",
       "      <td>20:19:36</td>\n",
       "      <td>262</td>\n",
       "      <td>3</td>\n",
       "      <td>16</td>\n",
       "      <td>Normal</td>\n",
       "      <td>May wants to work out first, how's 4 sound?</td>\n",
       "    </tr>\n",
       "  </tbody>\n",
       "</table>\n",
       "</div>"
      ],
      "text/plain": [
       "     Caller Number Call Time  Call Duration(in s)  Call Frequency Per Day  \\\n",
       "0  +1-917-555-3286  08:50:33                   62                       3   \n",
       "1  +1-205-795-8028  17:05:53                   78                       3   \n",
       "2  +1-702-412-9422  16:29:51                   55                       4   \n",
       "3  +1-915-426-2998  17:36:33                   48                       9   \n",
       "4  +1-915-543-9437  20:19:36                  262                       3   \n",
       "\n",
       "   Call Frequency Per Week Call Type  \\\n",
       "0                       25    Normal   \n",
       "1                       31    Normal   \n",
       "2                        7    Normal   \n",
       "3                       14    Normal   \n",
       "4                       16    Normal   \n",
       "\n",
       "                                        Conversation  \n",
       "0  Hope. Since ago travelled, he has forgotten hi...  \n",
       "1  Horrible you eat mass eat until u forgot about...  \n",
       "2                  Great! I have to run now so tell!  \n",
       "3                             Sorry, I'll call later  \n",
       "4        May wants to work out first, how's 4 sound?  "
      ]
     },
     "execution_count": 4,
     "metadata": {},
     "output_type": "execute_result"
    }
   ],
   "source": [
    "c_fraud_df.head()"
   ]
  },
  {
   "cell_type": "markdown",
   "metadata": {},
   "source": [
    "## Splitting the data"
   ]
  },
  {
   "cell_type": "code",
   "execution_count": 5,
   "metadata": {},
   "outputs": [],
   "source": [
    "from sklearn.model_selection import train_test_split\n",
    "\n",
    "def split_data_stratified(X, y, test_size=0.2, eval_size=0.1, random_state=42):\n",
    "    \n",
    "    X_train, X_temp, y_train, y_temp = train_test_split(\n",
    "        X, y, test_size=test_size + eval_size, random_state=random_state, stratify=y)\n",
    "    \n",
    "    X_eval, X_test, y_eval, y_test = train_test_split(\n",
    "        X_temp, y_temp, test_size=test_size / (test_size + eval_size), random_state=random_state, stratify=y_temp)\n",
    "    \n",
    "    del X_temp,y_temp\n",
    "    \n",
    "    return X_train, X_eval, X_test, y_train, y_eval, y_test\n"
   ]
  },
  {
   "cell_type": "code",
   "execution_count": 6,
   "metadata": {},
   "outputs": [],
   "source": [
    "#Dividing columns to features and labels\n",
    "y = c_fraud_df['Call Type']\n",
    "X = c_fraud_df.drop(columns='Call Type', axis=1)"
   ]
  },
  {
   "cell_type": "code",
   "execution_count": 7,
   "metadata": {},
   "outputs": [],
   "source": [
    "X_train, X_eval, X_test, y_train, y_eval, y_test = split_data_stratified(X,y)\n",
    "X_train = X_train.reset_index(drop=True)\n",
    "X_eval = X_eval.reset_index(drop=True)\n",
    "X_test = X_test.reset_index(drop=True)\n",
    "\n",
    "y_train = y_train.reset_index(drop=True)\n",
    "y_eval = y_eval.reset_index(drop=True)\n",
    "y_test = y_test.reset_index(drop=True)"
   ]
  },
  {
   "cell_type": "code",
   "execution_count": 8,
   "metadata": {},
   "outputs": [
    {
     "data": {
      "text/html": [
       "<div>\n",
       "<style scoped>\n",
       "    .dataframe tbody tr th:only-of-type {\n",
       "        vertical-align: middle;\n",
       "    }\n",
       "\n",
       "    .dataframe tbody tr th {\n",
       "        vertical-align: top;\n",
       "    }\n",
       "\n",
       "    .dataframe thead th {\n",
       "        text-align: right;\n",
       "    }\n",
       "</style>\n",
       "<table border=\"1\" class=\"dataframe\">\n",
       "  <thead>\n",
       "    <tr style=\"text-align: right;\">\n",
       "      <th></th>\n",
       "      <th>Caller Number</th>\n",
       "      <th>Call Time</th>\n",
       "      <th>Call Duration(in s)</th>\n",
       "      <th>Call Frequency Per Day</th>\n",
       "      <th>Call Frequency Per Week</th>\n",
       "      <th>Conversation</th>\n",
       "    </tr>\n",
       "  </thead>\n",
       "  <tbody>\n",
       "    <tr>\n",
       "      <th>0</th>\n",
       "      <td>+1-917-436-9480</td>\n",
       "      <td>12:02:10</td>\n",
       "      <td>1325</td>\n",
       "      <td>5</td>\n",
       "      <td>10</td>\n",
       "      <td>whiskey Brandy Sum In Beer Vodka Scotch Shampa...</td>\n",
       "    </tr>\n",
       "    <tr>\n",
       "      <th>1</th>\n",
       "      <td>+1-718-745-1135</td>\n",
       "      <td>12:05:16</td>\n",
       "      <td>1572</td>\n",
       "      <td>12</td>\n",
       "      <td>30</td>\n",
       "      <td>He detected a failed login attempt on your ba...</td>\n",
       "    </tr>\n",
       "    <tr>\n",
       "      <th>2</th>\n",
       "      <td>+1-213-329-9734</td>\n",
       "      <td>22:06:51</td>\n",
       "      <td>445</td>\n",
       "      <td>1</td>\n",
       "      <td>26</td>\n",
       "      <td>Up to you, you want come then come for... But ...</td>\n",
       "    </tr>\n",
       "    <tr>\n",
       "      <th>3</th>\n",
       "      <td>+1-628-329-7445</td>\n",
       "      <td>21:20:38</td>\n",
       "      <td>243</td>\n",
       "      <td>5</td>\n",
       "      <td>17</td>\n",
       "      <td>My Anna is breaking me out. The's looked thou ...</td>\n",
       "    </tr>\n",
       "    <tr>\n",
       "      <th>4</th>\n",
       "      <td>+1-417-861-6252</td>\n",
       "      <td>09:32:34</td>\n",
       "      <td>373</td>\n",
       "      <td>4</td>\n",
       "      <td>16</td>\n",
       "      <td>Key are you angry with me. Reply me dr.</td>\n",
       "    </tr>\n",
       "  </tbody>\n",
       "</table>\n",
       "</div>"
      ],
      "text/plain": [
       "     Caller Number Call Time  Call Duration(in s)  Call Frequency Per Day  \\\n",
       "0  +1-917-436-9480  12:02:10                 1325                       5   \n",
       "1  +1-718-745-1135  12:05:16                 1572                      12   \n",
       "2  +1-213-329-9734  22:06:51                  445                       1   \n",
       "3  +1-628-329-7445  21:20:38                  243                       5   \n",
       "4  +1-417-861-6252  09:32:34                  373                       4   \n",
       "\n",
       "   Call Frequency Per Week                                       Conversation  \n",
       "0                       10  whiskey Brandy Sum In Beer Vodka Scotch Shampa...  \n",
       "1                       30   He detected a failed login attempt on your ba...  \n",
       "2                       26  Up to you, you want come then come for... But ...  \n",
       "3                       17  My Anna is breaking me out. The's looked thou ...  \n",
       "4                       16            Key are you angry with me. Reply me dr.  "
      ]
     },
     "execution_count": 8,
     "metadata": {},
     "output_type": "execute_result"
    }
   ],
   "source": [
    "X_train.head()"
   ]
  },
  {
   "cell_type": "code",
   "execution_count": 9,
   "metadata": {},
   "outputs": [
    {
     "data": {
      "text/plain": [
       "Caller Number              object\n",
       "Call Time                  object\n",
       "Call Duration(in s)         int64\n",
       "Call Frequency Per Day      int64\n",
       "Call Frequency Per Week     int64\n",
       "Conversation               object\n",
       "dtype: object"
      ]
     },
     "execution_count": 9,
     "metadata": {},
     "output_type": "execute_result"
    }
   ],
   "source": [
    "X_train.dtypes"
   ]
  },
  {
   "cell_type": "markdown",
   "metadata": {},
   "source": [
    "## Oversampling Data to handle data imbalance"
   ]
  },
  {
   "cell_type": "code",
   "execution_count": 10,
   "metadata": {},
   "outputs": [
    {
     "name": "stdout",
     "output_type": "stream",
     "text": [
      "1206\n",
      "325\n"
     ]
    }
   ],
   "source": [
    "a = y_train.eq('Spam').sum()\n",
    "b = y_train.eq('Scam').sum()\n",
    "print(a)\n",
    "print(b)"
   ]
  },
  {
   "cell_type": "code",
   "execution_count": 11,
   "metadata": {},
   "outputs": [],
   "source": [
    "rsa = RandomOverSampler( sampling_strategy={'Spam': 1757,'Scam':683},random_state=42)\n",
    "\n",
    "X_resampled, y_resampled = rsa.fit_resample(X_train, y_train)"
   ]
  },
  {
   "cell_type": "code",
   "execution_count": 12,
   "metadata": {},
   "outputs": [
    {
     "data": {
      "text/html": [
       "<div>\n",
       "<style scoped>\n",
       "    .dataframe tbody tr th:only-of-type {\n",
       "        vertical-align: middle;\n",
       "    }\n",
       "\n",
       "    .dataframe tbody tr th {\n",
       "        vertical-align: top;\n",
       "    }\n",
       "\n",
       "    .dataframe thead th {\n",
       "        text-align: right;\n",
       "    }\n",
       "</style>\n",
       "<table border=\"1\" class=\"dataframe\">\n",
       "  <thead>\n",
       "    <tr style=\"text-align: right;\">\n",
       "      <th></th>\n",
       "      <th>Caller Number</th>\n",
       "      <th>Call Time</th>\n",
       "      <th>Call Duration(in s)</th>\n",
       "      <th>Call Frequency Per Day</th>\n",
       "      <th>Call Frequency Per Week</th>\n",
       "      <th>Conversation</th>\n",
       "    </tr>\n",
       "  </thead>\n",
       "  <tbody>\n",
       "    <tr>\n",
       "      <th>0</th>\n",
       "      <td>+1-917-436-9480</td>\n",
       "      <td>12:02:10</td>\n",
       "      <td>1325</td>\n",
       "      <td>5</td>\n",
       "      <td>10</td>\n",
       "      <td>whiskey Brandy Sum In Beer Vodka Scotch Shampa...</td>\n",
       "    </tr>\n",
       "    <tr>\n",
       "      <th>1</th>\n",
       "      <td>+1-718-745-1135</td>\n",
       "      <td>12:05:16</td>\n",
       "      <td>1572</td>\n",
       "      <td>12</td>\n",
       "      <td>30</td>\n",
       "      <td>He detected a failed login attempt on your ba...</td>\n",
       "    </tr>\n",
       "    <tr>\n",
       "      <th>2</th>\n",
       "      <td>+1-213-329-9734</td>\n",
       "      <td>22:06:51</td>\n",
       "      <td>445</td>\n",
       "      <td>1</td>\n",
       "      <td>26</td>\n",
       "      <td>Up to you, you want come then come for... But ...</td>\n",
       "    </tr>\n",
       "    <tr>\n",
       "      <th>3</th>\n",
       "      <td>+1-628-329-7445</td>\n",
       "      <td>21:20:38</td>\n",
       "      <td>243</td>\n",
       "      <td>5</td>\n",
       "      <td>17</td>\n",
       "      <td>My Anna is breaking me out. The's looked thou ...</td>\n",
       "    </tr>\n",
       "    <tr>\n",
       "      <th>4</th>\n",
       "      <td>+1-417-861-6252</td>\n",
       "      <td>09:32:34</td>\n",
       "      <td>373</td>\n",
       "      <td>4</td>\n",
       "      <td>16</td>\n",
       "      <td>Key are you angry with me. Reply me dr.</td>\n",
       "    </tr>\n",
       "  </tbody>\n",
       "</table>\n",
       "</div>"
      ],
      "text/plain": [
       "     Caller Number Call Time  Call Duration(in s)  Call Frequency Per Day  \\\n",
       "0  +1-917-436-9480  12:02:10                 1325                       5   \n",
       "1  +1-718-745-1135  12:05:16                 1572                      12   \n",
       "2  +1-213-329-9734  22:06:51                  445                       1   \n",
       "3  +1-628-329-7445  21:20:38                  243                       5   \n",
       "4  +1-417-861-6252  09:32:34                  373                       4   \n",
       "\n",
       "   Call Frequency Per Week                                       Conversation  \n",
       "0                       10  whiskey Brandy Sum In Beer Vodka Scotch Shampa...  \n",
       "1                       30   He detected a failed login attempt on your ba...  \n",
       "2                       26  Up to you, you want come then come for... But ...  \n",
       "3                       17  My Anna is breaking me out. The's looked thou ...  \n",
       "4                       16            Key are you angry with me. Reply me dr.  "
      ]
     },
     "execution_count": 12,
     "metadata": {},
     "output_type": "execute_result"
    }
   ],
   "source": [
    "X_resampled.head()"
   ]
  },
  {
   "cell_type": "code",
   "execution_count": 13,
   "metadata": {},
   "outputs": [
    {
     "data": {
      "text/plain": [
       "0    Normal\n",
       "1      Scam\n",
       "2    Normal\n",
       "3    Normal\n",
       "4    Normal\n",
       "Name: Call Type, dtype: object"
      ]
     },
     "execution_count": 13,
     "metadata": {},
     "output_type": "execute_result"
    }
   ],
   "source": [
    "y_resampled.head()"
   ]
  },
  {
   "cell_type": "code",
   "execution_count": 14,
   "metadata": {},
   "outputs": [
    {
     "data": {
      "text/plain": [
       "Caller Number              object\n",
       "Call Time                  object\n",
       "Call Duration(in s)         int64\n",
       "Call Frequency Per Day      int64\n",
       "Call Frequency Per Week     int64\n",
       "Conversation               object\n",
       "dtype: object"
      ]
     },
     "execution_count": 14,
     "metadata": {},
     "output_type": "execute_result"
    }
   ],
   "source": [
    "X_resampled.dtypes"
   ]
  },
  {
   "cell_type": "code",
   "execution_count": 15,
   "metadata": {},
   "outputs": [
    {
     "data": {
      "text/plain": [
       "0    whiskey Brandy Sum In Beer Vodka Scotch Shampa...\n",
       "1     He detected a failed login attempt on your ba...\n",
       "2    Up to you, you want come then come for... But ...\n",
       "3    My Anna is breaking me out. The's looked thou ...\n",
       "4              Key are you angry with me. Reply me dr.\n",
       "Name: Conversation, dtype: object"
      ]
     },
     "execution_count": 15,
     "metadata": {},
     "output_type": "execute_result"
    }
   ],
   "source": [
    "X_resampled['Conversation'].head()"
   ]
  },
  {
   "cell_type": "code",
   "execution_count": 16,
   "metadata": {},
   "outputs": [
    {
     "data": {
      "text/plain": [
       "Conversation\n",
       "<class 'str'>    13221\n",
       "Name: count, dtype: int64"
      ]
     },
     "execution_count": 16,
     "metadata": {},
     "output_type": "execute_result"
    }
   ],
   "source": [
    "X_resampled['Conversation'].apply(type).value_counts()\n"
   ]
  },
  {
   "cell_type": "code",
   "execution_count": 17,
   "metadata": {},
   "outputs": [
    {
     "data": {
      "text/plain": [
       "np.int64(0)"
      ]
     },
     "execution_count": 17,
     "metadata": {},
     "output_type": "execute_result"
    }
   ],
   "source": [
    "X_resampled['Conversation'].isnull().sum()"
   ]
  },
  {
   "cell_type": "code",
   "execution_count": 18,
   "metadata": {},
   "outputs": [
    {
     "data": {
      "text/html": [
       "<div>\n",
       "<style scoped>\n",
       "    .dataframe tbody tr th:only-of-type {\n",
       "        vertical-align: middle;\n",
       "    }\n",
       "\n",
       "    .dataframe tbody tr th {\n",
       "        vertical-align: top;\n",
       "    }\n",
       "\n",
       "    .dataframe thead th {\n",
       "        text-align: right;\n",
       "    }\n",
       "</style>\n",
       "<table border=\"1\" class=\"dataframe\">\n",
       "  <thead>\n",
       "    <tr style=\"text-align: right;\">\n",
       "      <th></th>\n",
       "      <th>Caller Number</th>\n",
       "      <th>Call Time</th>\n",
       "      <th>Call Duration(in s)</th>\n",
       "      <th>Call Frequency Per Day</th>\n",
       "      <th>Call Frequency Per Week</th>\n",
       "      <th>Conversation</th>\n",
       "    </tr>\n",
       "  </thead>\n",
       "  <tbody>\n",
       "    <tr>\n",
       "      <th>0</th>\n",
       "      <td>+1-628-877-4923</td>\n",
       "      <td>16:53:24</td>\n",
       "      <td>765</td>\n",
       "      <td>4</td>\n",
       "      <td>25</td>\n",
       "      <td>Purity of friendship between two is not about ...</td>\n",
       "    </tr>\n",
       "    <tr>\n",
       "      <th>1</th>\n",
       "      <td>+1-313-528-1651</td>\n",
       "      <td>16:35:33</td>\n",
       "      <td>203</td>\n",
       "      <td>4</td>\n",
       "      <td>6</td>\n",
       "      <td>I know she called me</td>\n",
       "    </tr>\n",
       "    <tr>\n",
       "      <th>2</th>\n",
       "      <td>+1-205-693-7634</td>\n",
       "      <td>19:20:07</td>\n",
       "      <td>258</td>\n",
       "      <td>6</td>\n",
       "      <td>10</td>\n",
       "      <td>A just telling at the incident..</td>\n",
       "    </tr>\n",
       "    <tr>\n",
       "      <th>3</th>\n",
       "      <td>+1-572-745-1281</td>\n",
       "      <td>21:06:05</td>\n",
       "      <td>166</td>\n",
       "      <td>7</td>\n",
       "      <td>8</td>\n",
       "      <td>He just only have science and fiction books an...</td>\n",
       "    </tr>\n",
       "    <tr>\n",
       "      <th>4</th>\n",
       "      <td>+1-572-277-5100</td>\n",
       "      <td>10:16:54</td>\n",
       "      <td>110</td>\n",
       "      <td>4</td>\n",
       "      <td>24</td>\n",
       "      <td>Still i have not checked it da. . .</td>\n",
       "    </tr>\n",
       "  </tbody>\n",
       "</table>\n",
       "</div>"
      ],
      "text/plain": [
       "     Caller Number Call Time  Call Duration(in s)  Call Frequency Per Day  \\\n",
       "0  +1-628-877-4923  16:53:24                  765                       4   \n",
       "1  +1-313-528-1651  16:35:33                  203                       4   \n",
       "2  +1-205-693-7634  19:20:07                  258                       6   \n",
       "3  +1-572-745-1281  21:06:05                  166                       7   \n",
       "4  +1-572-277-5100  10:16:54                  110                       4   \n",
       "\n",
       "   Call Frequency Per Week                                       Conversation  \n",
       "0                       25  Purity of friendship between two is not about ...  \n",
       "1                        6                               I know she called me  \n",
       "2                       10                   A just telling at the incident..  \n",
       "3                        8  He just only have science and fiction books an...  \n",
       "4                       24                Still i have not checked it da. . .  "
      ]
     },
     "execution_count": 18,
     "metadata": {},
     "output_type": "execute_result"
    }
   ],
   "source": [
    "X_eval.head()"
   ]
  },
  {
   "cell_type": "code",
   "execution_count": 19,
   "metadata": {},
   "outputs": [
    {
     "data": {
      "text/html": [
       "<div>\n",
       "<style scoped>\n",
       "    .dataframe tbody tr th:only-of-type {\n",
       "        vertical-align: middle;\n",
       "    }\n",
       "\n",
       "    .dataframe tbody tr th {\n",
       "        vertical-align: top;\n",
       "    }\n",
       "\n",
       "    .dataframe thead th {\n",
       "        text-align: right;\n",
       "    }\n",
       "</style>\n",
       "<table border=\"1\" class=\"dataframe\">\n",
       "  <thead>\n",
       "    <tr style=\"text-align: right;\">\n",
       "      <th></th>\n",
       "      <th>Caller Number</th>\n",
       "      <th>Call Time</th>\n",
       "      <th>Call Duration(in s)</th>\n",
       "      <th>Call Frequency Per Day</th>\n",
       "      <th>Call Frequency Per Week</th>\n",
       "      <th>Conversation</th>\n",
       "    </tr>\n",
       "  </thead>\n",
       "  <tbody>\n",
       "    <tr>\n",
       "      <th>0</th>\n",
       "      <td>+1-572-358-7183</td>\n",
       "      <td>17:45:56</td>\n",
       "      <td>138</td>\n",
       "      <td>3</td>\n",
       "      <td>15</td>\n",
       "      <td>Life is more strict than teacher... Because Te...</td>\n",
       "    </tr>\n",
       "    <tr>\n",
       "      <th>1</th>\n",
       "      <td>+1-917-998-6266</td>\n",
       "      <td>08:25:24</td>\n",
       "      <td>235</td>\n",
       "      <td>7</td>\n",
       "      <td>37</td>\n",
       "      <td>Sorry, I'll call later In meeting.</td>\n",
       "    </tr>\n",
       "    <tr>\n",
       "      <th>2</th>\n",
       "      <td>+1-323-414-2068</td>\n",
       "      <td>08:01:45</td>\n",
       "      <td>350</td>\n",
       "      <td>4</td>\n",
       "      <td>12</td>\n",
       "      <td>HIYA STU WOT U of 2.of of of MUCH TRUBLE of HO...</td>\n",
       "    </tr>\n",
       "    <tr>\n",
       "      <th>3</th>\n",
       "      <td>+1-646-804-3708</td>\n",
       "      <td>20:08:16</td>\n",
       "      <td>148</td>\n",
       "      <td>3</td>\n",
       "      <td>11</td>\n",
       "      <td>He hungry buy some food good let... But sum n ...</td>\n",
       "    </tr>\n",
       "    <tr>\n",
       "      <th>4</th>\n",
       "      <td>+1-323-378-4448</td>\n",
       "      <td>09:04:55</td>\n",
       "      <td>66</td>\n",
       "      <td>4</td>\n",
       "      <td>30</td>\n",
       "      <td>Not yet chink..going to room no, i'm in bus..</td>\n",
       "    </tr>\n",
       "  </tbody>\n",
       "</table>\n",
       "</div>"
      ],
      "text/plain": [
       "     Caller Number Call Time  Call Duration(in s)  Call Frequency Per Day  \\\n",
       "0  +1-572-358-7183  17:45:56                  138                       3   \n",
       "1  +1-917-998-6266  08:25:24                  235                       7   \n",
       "2  +1-323-414-2068  08:01:45                  350                       4   \n",
       "3  +1-646-804-3708  20:08:16                  148                       3   \n",
       "4  +1-323-378-4448  09:04:55                   66                       4   \n",
       "\n",
       "   Call Frequency Per Week                                       Conversation  \n",
       "0                       15  Life is more strict than teacher... Because Te...  \n",
       "1                       37                 Sorry, I'll call later In meeting.  \n",
       "2                       12  HIYA STU WOT U of 2.of of of MUCH TRUBLE of HO...  \n",
       "3                       11  He hungry buy some food good let... But sum n ...  \n",
       "4                       30      Not yet chink..going to room no, i'm in bus..  "
      ]
     },
     "execution_count": 19,
     "metadata": {},
     "output_type": "execute_result"
    }
   ],
   "source": [
    "X_test.head()"
   ]
  },
  {
   "cell_type": "markdown",
   "metadata": {},
   "source": [
    "## Pipelining\n"
   ]
  },
  {
   "cell_type": "markdown",
   "metadata": {},
   "source": [
    "Function to create two new columns as decided in preprocessing steps i.e Area Code, Hour and Binned Hour values\n"
   ]
  },
  {
   "cell_type": "code",
   "execution_count": 20,
   "metadata": {},
   "outputs": [],
   "source": [
    "class ConvertToDatetime(BaseEstimator, TransformerMixin):\n",
    "    def fit(self, X, y=None):\n",
    "        return self\n",
    "    \n",
    "    def transform(self, X):\n",
    "        X = X.copy() \n",
    "        \n",
    "        if 'Call Time' in X.columns:\n",
    "            if not pd.api.types.is_datetime64_any_dtype(X['Call Time']):\n",
    "                X['Call Time'] = pd.to_datetime(X['Call Time'],format='%H:%M:%S', errors='coerce')\n",
    "        else:\n",
    "            raise ValueError(\"The input DataFrame must contain a 'Call Time' column.\")\n",
    "        \n",
    "        return X"
   ]
  },
  {
   "cell_type": "code",
   "execution_count": 21,
   "metadata": {},
   "outputs": [],
   "source": [
    "class AddAreaCodeDropNumber(BaseEstimator, TransformerMixin):\n",
    "    def fit(self, X, y=None):\n",
    "        return self\n",
    "\n",
    "    def transform(self, X):\n",
    "        X = X.copy()\n",
    "        \n",
    "        X['Area Code'] = X['Caller Number'].str[3:6]\n",
    "\n",
    "        def clean_phone_number(phone_number):\n",
    "            cleaned_number = re.sub(r'[^0-9]', '', phone_number)\n",
    "            return cleaned_number[-7:]\n",
    "\n",
    "        X['PhNoLastDig'] = X['Caller Number'].apply(clean_phone_number)\n",
    "\n",
    "        X['Area Code'] = X['Area Code'].astype(int)\n",
    "        X['PhNoLastDig'] = X['PhNoLastDig'].astype(int)\n",
    "        \n",
    "        X.drop(columns=['Caller Number'], inplace=True, errors='ignore')\n",
    "        \n",
    "        \n",
    "        return X\n"
   ]
  },
  {
   "cell_type": "code",
   "execution_count": 22,
   "metadata": {},
   "outputs": [],
   "source": [
    "class AddHourDropTime(BaseEstimator, TransformerMixin):\n",
    "    def fit(self,X,y = None):\n",
    "        return self\n",
    "    \n",
    "    def transform(self, X):\n",
    "        X = X.copy()\n",
    "        \n",
    "        X['Hour'] = X['Call Time'].dt.hour.astype(int)\n",
    "\n",
    "        X.drop(columns='Call Time', inplace=True,  errors='ignore')\n",
    "\n",
    "        return X"
   ]
  },
  {
   "cell_type": "code",
   "execution_count": 23,
   "metadata": {},
   "outputs": [],
   "source": [
    "class TimeOfDayTransformer(BaseEstimator, TransformerMixin):\n",
    "\n",
    "    def fit(self, X, y=None):\n",
    "        return self\n",
    "\n",
    "    def transform(self, X):\n",
    "\n",
    "        if 'Hour' not in X.columns:\n",
    "            raise ValueError(\"The input DataFrame must contain an 'Hour' column.\")\n",
    "\n",
    "        X['TimeOfDay'] = pd.cut(X['Hour'], bins=[0, 7, 9, 12, 15, 17, 20, 23], labels=['0-7', '7-9', '9-12', '12-15','15-17','17-20','20-23'], right=False)\n",
    "\n",
    "        return X"
   ]
  },
  {
   "cell_type": "code",
   "execution_count": 24,
   "metadata": {},
   "outputs": [],
   "source": [
    "class SqueezeTextColumn(BaseEstimator, TransformerMixin):\n",
    "    \n",
    "    def fit(self, X, y=None):\n",
    "        return self\n",
    "\n",
    "    def transform(self, X):\n",
    "        # Ensure X is a pandas DataFrame or Series\n",
    "        if isinstance(X, pd.DataFrame):\n",
    "            if X.shape[1] == 1:  # Single-column DataFrame\n",
    "                X = X.squeeze(axis=1)\n",
    "            else:\n",
    "                raise ValueError(\"Input must be a single-column DataFrame for squeezing.\")\n",
    "        elif not isinstance(X, pd.Series):\n",
    "            raise TypeError(\"Input must be a pandas Series or single-column DataFrame.\")\n",
    "        \n",
    "        return X"
   ]
  },
  {
   "cell_type": "code",
   "execution_count": 25,
   "metadata": {},
   "outputs": [],
   "source": [
    "class StemmingTransformer(BaseEstimator, TransformerMixin):\n",
    "    def __init__(self):\n",
    "        self.port_stem = PorterStemmer()\n",
    "        self.stop_words = set(stopwords.words('english'))\n",
    "    \n",
    "    def fit(self, X, y=None):\n",
    "        return self\n",
    "    \n",
    "    def transform(self, X):\n",
    "        if not isinstance(X, (list, pd.Series)):\n",
    "            raise ValueError(\"Input must be a pandas Series or a list of strings.\")\n",
    "\n",
    "        return X.apply(self._stem_content)\n",
    "    \n",
    "    def _stem_content(self, content):\n",
    "        stemmed_content = re.sub('[^a-zA-Z]', ' ', content)\n",
    "        stemmed_content = stemmed_content.lower()\n",
    "        stemmed_content = stemmed_content.split()\n",
    "        stemmed_content = [\n",
    "            self.port_stem.stem(word) \n",
    "            for word in stemmed_content \n",
    "            if word not in self.stop_words\n",
    "        ]\n",
    "        return ' '.join(stemmed_content)"
   ]
  },
  {
   "cell_type": "code",
   "execution_count": null,
   "metadata": {},
   "outputs": [],
   "source": [
    "class FitTransformPipeline(BaseEstimator, ClassifierMixin):\n",
    "    def __init__(self, preprocessor, model):\n",
    "        self.preprocessor = preprocessor\n",
    "        self.model = model \n",
    "\n",
    "    def fit(self, X, y):\n",
    "        X_transformed = self.preprocessor.fit_transform(X, y)\n",
    "        self.model.fit(X_transformed, y)\n",
    "        return self\n",
    "\n",
    "    def predict(self, X):\n",
    "        X_transformed = self.preprocessor.transform(X)\n",
    "        return self.model.predict(X_transformed)\n",
    "\n",
    "    def predict_proba(self, X):\n",
    "        X_transformed = self.preprocessor.transform(X)\n",
    "        return self.model.predict_proba(X_transformed)\n",
    "\n",
    "    def fit_transform(self, X, y):\n",
    "        return self.preprocessor.fit_transform(X, y)"
   ]
  },
  {
   "cell_type": "markdown",
   "metadata": {},
   "source": [
    "Pipeline Construction"
   ]
  },
  {
   "cell_type": "code",
   "execution_count": 27,
   "metadata": {},
   "outputs": [],
   "source": [
    "AddAreaCodeCol = Pipeline(steps=[\n",
    "    ('Add_AreaCode_Column', AddAreaCodeDropNumber()),\n",
    "])"
   ]
  },
  {
   "cell_type": "code",
   "execution_count": 28,
   "metadata": {},
   "outputs": [],
   "source": [
    "AddHourCol = Pipeline(steps=[\n",
    "    ('ToDateTime', ConvertToDatetime()),\n",
    "    ('Add_Hour_Column', AddHourDropTime())\n",
    "])"
   ]
  },
  {
   "cell_type": "code",
   "execution_count": 29,
   "metadata": {},
   "outputs": [],
   "source": [
    "AddBinnedTimeCol = Pipeline(steps=[\n",
    "    ('Add_time_binned', TimeOfDayTransformer())\n",
    "])"
   ]
  },
  {
   "cell_type": "code",
   "execution_count": 30,
   "metadata": {},
   "outputs": [],
   "source": [
    "time_pipeline = Pipeline(steps=[\n",
    "    ('hour', AddHourCol),               # Extract 'Hour' from 'Call Time'\n",
    "    ('binned_time', AddBinnedTimeCol)  # Bin 'Hour' into categories\n",
    "])"
   ]
  },
  {
   "cell_type": "code",
   "execution_count": 31,
   "metadata": {},
   "outputs": [],
   "source": [
    "numerical_transformer = Pipeline(steps=[\n",
    "    ('Imputation_median',SimpleImputer(missing_values=np.nan,strategy='median')),\n",
    "    ('scaler', StandardScaler())\n",
    "])"
   ]
  },
  {
   "cell_type": "code",
   "execution_count": 32,
   "metadata": {},
   "outputs": [],
   "source": [
    "categorical_transformer = Pipeline(steps=[\n",
    "    ('Text_imputation', SimpleImputer(fill_value='', strategy='constant')),\n",
    "    ('OneHot',OneHotEncoder())\n",
    "])"
   ]
  },
  {
   "cell_type": "code",
   "execution_count": 33,
   "metadata": {},
   "outputs": [
    {
     "name": "stderr",
     "output_type": "stream",
     "text": [
      "[nltk_data] Downloading package stopwords to\n",
      "[nltk_data]     C:\\Users\\Dell\\AppData\\Roaming\\nltk_data...\n",
      "[nltk_data]   Package stopwords is already up-to-date!\n"
     ]
    }
   ],
   "source": [
    "import nltk\n",
    "nltk.download('stopwords')\n",
    "text_transformer = Pipeline(steps=[\n",
    "    ('squeeze',SqueezeTextColumn()),\n",
    "    ('stemming', StemmingTransformer()),\n",
    "    ('vectorizer', TfidfVectorizer())  \n",
    "])"
   ]
  },
  {
   "cell_type": "code",
   "execution_count": 34,
   "metadata": {},
   "outputs": [],
   "source": [
    "numerical_cols = ['Call Duration(in s)','Call Frequency Per Day','Call Frequency Per Week','Area Code','PhNoLastDig','Hour']\n",
    "categorical_cols = ['TimeOfDay']\n",
    "text_cols = ['Conversation']"
   ]
  },
  {
   "cell_type": "markdown",
   "metadata": {},
   "source": [
    "Main Pipeline"
   ]
  },
  {
   "cell_type": "code",
   "execution_count": 35,
   "metadata": {},
   "outputs": [],
   "source": [
    "add_data = Pipeline(steps=[\n",
    "    ('AreaCode',AddAreaCodeCol),\n",
    "    ('Time', time_pipeline) #Creates three new columns AreaCode, LastPhNo and TimeOfDay\n",
    "])"
   ]
  },
  {
   "cell_type": "code",
   "execution_count": 36,
   "metadata": {},
   "outputs": [],
   "source": [
    "preprocessor = ColumnTransformer(\n",
    "    transformers=[\n",
    "        ('num', numerical_transformer, numerical_cols),\n",
    "        ('cat', categorical_transformer, categorical_cols),\n",
    "        ('text', text_transformer, text_cols)\n",
    "    ]\n",
    ")"
   ]
  },
  {
   "cell_type": "code",
   "execution_count": 37,
   "metadata": {},
   "outputs": [],
   "source": [
    "data_pipeline = Pipeline(steps=[\n",
    "    ('appendandremovecol', add_data),\n",
    "    ('preprocessor', preprocessor)    \n",
    "])\n"
   ]
  },
  {
   "cell_type": "code",
   "execution_count": 38,
   "metadata": {},
   "outputs": [],
   "source": [
    "final_pipeline = FitTransformPipeline(preprocessor=data_pipeline, model=RandomForestClassifier())"
   ]
  },
  {
   "cell_type": "code",
   "execution_count": 39,
   "metadata": {},
   "outputs": [
    {
     "data": {
      "text/plain": [
       "(13221, 5175)"
      ]
     },
     "execution_count": 39,
     "metadata": {},
     "output_type": "execute_result"
    }
   ],
   "source": [
    "X_preprocessed = data_pipeline.fit_transform(X_resampled)\n",
    "X_preprocessed.shape"
   ]
  },
  {
   "cell_type": "code",
   "execution_count": 40,
   "metadata": {},
   "outputs": [],
   "source": [
    "# numerical_data = numerical_transformer.fit_transform(X_resampled[numerical_cols])\n",
    "# print(\"Numerical data shape:\", numerical_data.shape)"
   ]
  },
  {
   "cell_type": "code",
   "execution_count": 41,
   "metadata": {},
   "outputs": [],
   "source": [
    "# categorical_data = categorical_transformer.fit_transform(X_resampled[categorical_cols])\n",
    "# print(\"Categorical data shape:\", categorical_data.shape)"
   ]
  },
  {
   "cell_type": "code",
   "execution_count": 42,
   "metadata": {},
   "outputs": [],
   "source": [
    "set_config(display=\"diagram\")"
   ]
  },
  {
   "cell_type": "code",
   "execution_count": 43,
   "metadata": {},
   "outputs": [
    {
     "data": {
      "text/html": [
       "<style>#sk-container-id-1 {\n",
       "  /* Definition of color scheme common for light and dark mode */\n",
       "  --sklearn-color-text: black;\n",
       "  --sklearn-color-line: gray;\n",
       "  /* Definition of color scheme for unfitted estimators */\n",
       "  --sklearn-color-unfitted-level-0: #fff5e6;\n",
       "  --sklearn-color-unfitted-level-1: #f6e4d2;\n",
       "  --sklearn-color-unfitted-level-2: #ffe0b3;\n",
       "  --sklearn-color-unfitted-level-3: chocolate;\n",
       "  /* Definition of color scheme for fitted estimators */\n",
       "  --sklearn-color-fitted-level-0: #f0f8ff;\n",
       "  --sklearn-color-fitted-level-1: #d4ebff;\n",
       "  --sklearn-color-fitted-level-2: #b3dbfd;\n",
       "  --sklearn-color-fitted-level-3: cornflowerblue;\n",
       "\n",
       "  /* Specific color for light theme */\n",
       "  --sklearn-color-text-on-default-background: var(--sg-text-color, var(--theme-code-foreground, var(--jp-content-font-color1, black)));\n",
       "  --sklearn-color-background: var(--sg-background-color, var(--theme-background, var(--jp-layout-color0, white)));\n",
       "  --sklearn-color-border-box: var(--sg-text-color, var(--theme-code-foreground, var(--jp-content-font-color1, black)));\n",
       "  --sklearn-color-icon: #696969;\n",
       "\n",
       "  @media (prefers-color-scheme: dark) {\n",
       "    /* Redefinition of color scheme for dark theme */\n",
       "    --sklearn-color-text-on-default-background: var(--sg-text-color, var(--theme-code-foreground, var(--jp-content-font-color1, white)));\n",
       "    --sklearn-color-background: var(--sg-background-color, var(--theme-background, var(--jp-layout-color0, #111)));\n",
       "    --sklearn-color-border-box: var(--sg-text-color, var(--theme-code-foreground, var(--jp-content-font-color1, white)));\n",
       "    --sklearn-color-icon: #878787;\n",
       "  }\n",
       "}\n",
       "\n",
       "#sk-container-id-1 {\n",
       "  color: var(--sklearn-color-text);\n",
       "}\n",
       "\n",
       "#sk-container-id-1 pre {\n",
       "  padding: 0;\n",
       "}\n",
       "\n",
       "#sk-container-id-1 input.sk-hidden--visually {\n",
       "  border: 0;\n",
       "  clip: rect(1px 1px 1px 1px);\n",
       "  clip: rect(1px, 1px, 1px, 1px);\n",
       "  height: 1px;\n",
       "  margin: -1px;\n",
       "  overflow: hidden;\n",
       "  padding: 0;\n",
       "  position: absolute;\n",
       "  width: 1px;\n",
       "}\n",
       "\n",
       "#sk-container-id-1 div.sk-dashed-wrapped {\n",
       "  border: 1px dashed var(--sklearn-color-line);\n",
       "  margin: 0 0.4em 0.5em 0.4em;\n",
       "  box-sizing: border-box;\n",
       "  padding-bottom: 0.4em;\n",
       "  background-color: var(--sklearn-color-background);\n",
       "}\n",
       "\n",
       "#sk-container-id-1 div.sk-container {\n",
       "  /* jupyter's `normalize.less` sets `[hidden] { display: none; }`\n",
       "     but bootstrap.min.css set `[hidden] { display: none !important; }`\n",
       "     so we also need the `!important` here to be able to override the\n",
       "     default hidden behavior on the sphinx rendered scikit-learn.org.\n",
       "     See: https://github.com/scikit-learn/scikit-learn/issues/21755 */\n",
       "  display: inline-block !important;\n",
       "  position: relative;\n",
       "}\n",
       "\n",
       "#sk-container-id-1 div.sk-text-repr-fallback {\n",
       "  display: none;\n",
       "}\n",
       "\n",
       "div.sk-parallel-item,\n",
       "div.sk-serial,\n",
       "div.sk-item {\n",
       "  /* draw centered vertical line to link estimators */\n",
       "  background-image: linear-gradient(var(--sklearn-color-text-on-default-background), var(--sklearn-color-text-on-default-background));\n",
       "  background-size: 2px 100%;\n",
       "  background-repeat: no-repeat;\n",
       "  background-position: center center;\n",
       "}\n",
       "\n",
       "/* Parallel-specific style estimator block */\n",
       "\n",
       "#sk-container-id-1 div.sk-parallel-item::after {\n",
       "  content: \"\";\n",
       "  width: 100%;\n",
       "  border-bottom: 2px solid var(--sklearn-color-text-on-default-background);\n",
       "  flex-grow: 1;\n",
       "}\n",
       "\n",
       "#sk-container-id-1 div.sk-parallel {\n",
       "  display: flex;\n",
       "  align-items: stretch;\n",
       "  justify-content: center;\n",
       "  background-color: var(--sklearn-color-background);\n",
       "  position: relative;\n",
       "}\n",
       "\n",
       "#sk-container-id-1 div.sk-parallel-item {\n",
       "  display: flex;\n",
       "  flex-direction: column;\n",
       "}\n",
       "\n",
       "#sk-container-id-1 div.sk-parallel-item:first-child::after {\n",
       "  align-self: flex-end;\n",
       "  width: 50%;\n",
       "}\n",
       "\n",
       "#sk-container-id-1 div.sk-parallel-item:last-child::after {\n",
       "  align-self: flex-start;\n",
       "  width: 50%;\n",
       "}\n",
       "\n",
       "#sk-container-id-1 div.sk-parallel-item:only-child::after {\n",
       "  width: 0;\n",
       "}\n",
       "\n",
       "/* Serial-specific style estimator block */\n",
       "\n",
       "#sk-container-id-1 div.sk-serial {\n",
       "  display: flex;\n",
       "  flex-direction: column;\n",
       "  align-items: center;\n",
       "  background-color: var(--sklearn-color-background);\n",
       "  padding-right: 1em;\n",
       "  padding-left: 1em;\n",
       "}\n",
       "\n",
       "\n",
       "/* Toggleable style: style used for estimator/Pipeline/ColumnTransformer box that is\n",
       "clickable and can be expanded/collapsed.\n",
       "- Pipeline and ColumnTransformer use this feature and define the default style\n",
       "- Estimators will overwrite some part of the style using the `sk-estimator` class\n",
       "*/\n",
       "\n",
       "/* Pipeline and ColumnTransformer style (default) */\n",
       "\n",
       "#sk-container-id-1 div.sk-toggleable {\n",
       "  /* Default theme specific background. It is overwritten whether we have a\n",
       "  specific estimator or a Pipeline/ColumnTransformer */\n",
       "  background-color: var(--sklearn-color-background);\n",
       "}\n",
       "\n",
       "/* Toggleable label */\n",
       "#sk-container-id-1 label.sk-toggleable__label {\n",
       "  cursor: pointer;\n",
       "  display: block;\n",
       "  width: 100%;\n",
       "  margin-bottom: 0;\n",
       "  padding: 0.5em;\n",
       "  box-sizing: border-box;\n",
       "  text-align: center;\n",
       "}\n",
       "\n",
       "#sk-container-id-1 label.sk-toggleable__label-arrow:before {\n",
       "  /* Arrow on the left of the label */\n",
       "  content: \"▸\";\n",
       "  float: left;\n",
       "  margin-right: 0.25em;\n",
       "  color: var(--sklearn-color-icon);\n",
       "}\n",
       "\n",
       "#sk-container-id-1 label.sk-toggleable__label-arrow:hover:before {\n",
       "  color: var(--sklearn-color-text);\n",
       "}\n",
       "\n",
       "/* Toggleable content - dropdown */\n",
       "\n",
       "#sk-container-id-1 div.sk-toggleable__content {\n",
       "  max-height: 0;\n",
       "  max-width: 0;\n",
       "  overflow: hidden;\n",
       "  text-align: left;\n",
       "  /* unfitted */\n",
       "  background-color: var(--sklearn-color-unfitted-level-0);\n",
       "}\n",
       "\n",
       "#sk-container-id-1 div.sk-toggleable__content.fitted {\n",
       "  /* fitted */\n",
       "  background-color: var(--sklearn-color-fitted-level-0);\n",
       "}\n",
       "\n",
       "#sk-container-id-1 div.sk-toggleable__content pre {\n",
       "  margin: 0.2em;\n",
       "  border-radius: 0.25em;\n",
       "  color: var(--sklearn-color-text);\n",
       "  /* unfitted */\n",
       "  background-color: var(--sklearn-color-unfitted-level-0);\n",
       "}\n",
       "\n",
       "#sk-container-id-1 div.sk-toggleable__content.fitted pre {\n",
       "  /* unfitted */\n",
       "  background-color: var(--sklearn-color-fitted-level-0);\n",
       "}\n",
       "\n",
       "#sk-container-id-1 input.sk-toggleable__control:checked~div.sk-toggleable__content {\n",
       "  /* Expand drop-down */\n",
       "  max-height: 200px;\n",
       "  max-width: 100%;\n",
       "  overflow: auto;\n",
       "}\n",
       "\n",
       "#sk-container-id-1 input.sk-toggleable__control:checked~label.sk-toggleable__label-arrow:before {\n",
       "  content: \"▾\";\n",
       "}\n",
       "\n",
       "/* Pipeline/ColumnTransformer-specific style */\n",
       "\n",
       "#sk-container-id-1 div.sk-label input.sk-toggleable__control:checked~label.sk-toggleable__label {\n",
       "  color: var(--sklearn-color-text);\n",
       "  background-color: var(--sklearn-color-unfitted-level-2);\n",
       "}\n",
       "\n",
       "#sk-container-id-1 div.sk-label.fitted input.sk-toggleable__control:checked~label.sk-toggleable__label {\n",
       "  background-color: var(--sklearn-color-fitted-level-2);\n",
       "}\n",
       "\n",
       "/* Estimator-specific style */\n",
       "\n",
       "/* Colorize estimator box */\n",
       "#sk-container-id-1 div.sk-estimator input.sk-toggleable__control:checked~label.sk-toggleable__label {\n",
       "  /* unfitted */\n",
       "  background-color: var(--sklearn-color-unfitted-level-2);\n",
       "}\n",
       "\n",
       "#sk-container-id-1 div.sk-estimator.fitted input.sk-toggleable__control:checked~label.sk-toggleable__label {\n",
       "  /* fitted */\n",
       "  background-color: var(--sklearn-color-fitted-level-2);\n",
       "}\n",
       "\n",
       "#sk-container-id-1 div.sk-label label.sk-toggleable__label,\n",
       "#sk-container-id-1 div.sk-label label {\n",
       "  /* The background is the default theme color */\n",
       "  color: var(--sklearn-color-text-on-default-background);\n",
       "}\n",
       "\n",
       "/* On hover, darken the color of the background */\n",
       "#sk-container-id-1 div.sk-label:hover label.sk-toggleable__label {\n",
       "  color: var(--sklearn-color-text);\n",
       "  background-color: var(--sklearn-color-unfitted-level-2);\n",
       "}\n",
       "\n",
       "/* Label box, darken color on hover, fitted */\n",
       "#sk-container-id-1 div.sk-label.fitted:hover label.sk-toggleable__label.fitted {\n",
       "  color: var(--sklearn-color-text);\n",
       "  background-color: var(--sklearn-color-fitted-level-2);\n",
       "}\n",
       "\n",
       "/* Estimator label */\n",
       "\n",
       "#sk-container-id-1 div.sk-label label {\n",
       "  font-family: monospace;\n",
       "  font-weight: bold;\n",
       "  display: inline-block;\n",
       "  line-height: 1.2em;\n",
       "}\n",
       "\n",
       "#sk-container-id-1 div.sk-label-container {\n",
       "  text-align: center;\n",
       "}\n",
       "\n",
       "/* Estimator-specific */\n",
       "#sk-container-id-1 div.sk-estimator {\n",
       "  font-family: monospace;\n",
       "  border: 1px dotted var(--sklearn-color-border-box);\n",
       "  border-radius: 0.25em;\n",
       "  box-sizing: border-box;\n",
       "  margin-bottom: 0.5em;\n",
       "  /* unfitted */\n",
       "  background-color: var(--sklearn-color-unfitted-level-0);\n",
       "}\n",
       "\n",
       "#sk-container-id-1 div.sk-estimator.fitted {\n",
       "  /* fitted */\n",
       "  background-color: var(--sklearn-color-fitted-level-0);\n",
       "}\n",
       "\n",
       "/* on hover */\n",
       "#sk-container-id-1 div.sk-estimator:hover {\n",
       "  /* unfitted */\n",
       "  background-color: var(--sklearn-color-unfitted-level-2);\n",
       "}\n",
       "\n",
       "#sk-container-id-1 div.sk-estimator.fitted:hover {\n",
       "  /* fitted */\n",
       "  background-color: var(--sklearn-color-fitted-level-2);\n",
       "}\n",
       "\n",
       "/* Specification for estimator info (e.g. \"i\" and \"?\") */\n",
       "\n",
       "/* Common style for \"i\" and \"?\" */\n",
       "\n",
       ".sk-estimator-doc-link,\n",
       "a:link.sk-estimator-doc-link,\n",
       "a:visited.sk-estimator-doc-link {\n",
       "  float: right;\n",
       "  font-size: smaller;\n",
       "  line-height: 1em;\n",
       "  font-family: monospace;\n",
       "  background-color: var(--sklearn-color-background);\n",
       "  border-radius: 1em;\n",
       "  height: 1em;\n",
       "  width: 1em;\n",
       "  text-decoration: none !important;\n",
       "  margin-left: 1ex;\n",
       "  /* unfitted */\n",
       "  border: var(--sklearn-color-unfitted-level-1) 1pt solid;\n",
       "  color: var(--sklearn-color-unfitted-level-1);\n",
       "}\n",
       "\n",
       ".sk-estimator-doc-link.fitted,\n",
       "a:link.sk-estimator-doc-link.fitted,\n",
       "a:visited.sk-estimator-doc-link.fitted {\n",
       "  /* fitted */\n",
       "  border: var(--sklearn-color-fitted-level-1) 1pt solid;\n",
       "  color: var(--sklearn-color-fitted-level-1);\n",
       "}\n",
       "\n",
       "/* On hover */\n",
       "div.sk-estimator:hover .sk-estimator-doc-link:hover,\n",
       ".sk-estimator-doc-link:hover,\n",
       "div.sk-label-container:hover .sk-estimator-doc-link:hover,\n",
       ".sk-estimator-doc-link:hover {\n",
       "  /* unfitted */\n",
       "  background-color: var(--sklearn-color-unfitted-level-3);\n",
       "  color: var(--sklearn-color-background);\n",
       "  text-decoration: none;\n",
       "}\n",
       "\n",
       "div.sk-estimator.fitted:hover .sk-estimator-doc-link.fitted:hover,\n",
       ".sk-estimator-doc-link.fitted:hover,\n",
       "div.sk-label-container:hover .sk-estimator-doc-link.fitted:hover,\n",
       ".sk-estimator-doc-link.fitted:hover {\n",
       "  /* fitted */\n",
       "  background-color: var(--sklearn-color-fitted-level-3);\n",
       "  color: var(--sklearn-color-background);\n",
       "  text-decoration: none;\n",
       "}\n",
       "\n",
       "/* Span, style for the box shown on hovering the info icon */\n",
       ".sk-estimator-doc-link span {\n",
       "  display: none;\n",
       "  z-index: 9999;\n",
       "  position: relative;\n",
       "  font-weight: normal;\n",
       "  right: .2ex;\n",
       "  padding: .5ex;\n",
       "  margin: .5ex;\n",
       "  width: min-content;\n",
       "  min-width: 20ex;\n",
       "  max-width: 50ex;\n",
       "  color: var(--sklearn-color-text);\n",
       "  box-shadow: 2pt 2pt 4pt #999;\n",
       "  /* unfitted */\n",
       "  background: var(--sklearn-color-unfitted-level-0);\n",
       "  border: .5pt solid var(--sklearn-color-unfitted-level-3);\n",
       "}\n",
       "\n",
       ".sk-estimator-doc-link.fitted span {\n",
       "  /* fitted */\n",
       "  background: var(--sklearn-color-fitted-level-0);\n",
       "  border: var(--sklearn-color-fitted-level-3);\n",
       "}\n",
       "\n",
       ".sk-estimator-doc-link:hover span {\n",
       "  display: block;\n",
       "}\n",
       "\n",
       "/* \"?\"-specific style due to the `<a>` HTML tag */\n",
       "\n",
       "#sk-container-id-1 a.estimator_doc_link {\n",
       "  float: right;\n",
       "  font-size: 1rem;\n",
       "  line-height: 1em;\n",
       "  font-family: monospace;\n",
       "  background-color: var(--sklearn-color-background);\n",
       "  border-radius: 1rem;\n",
       "  height: 1rem;\n",
       "  width: 1rem;\n",
       "  text-decoration: none;\n",
       "  /* unfitted */\n",
       "  color: var(--sklearn-color-unfitted-level-1);\n",
       "  border: var(--sklearn-color-unfitted-level-1) 1pt solid;\n",
       "}\n",
       "\n",
       "#sk-container-id-1 a.estimator_doc_link.fitted {\n",
       "  /* fitted */\n",
       "  border: var(--sklearn-color-fitted-level-1) 1pt solid;\n",
       "  color: var(--sklearn-color-fitted-level-1);\n",
       "}\n",
       "\n",
       "/* On hover */\n",
       "#sk-container-id-1 a.estimator_doc_link:hover {\n",
       "  /* unfitted */\n",
       "  background-color: var(--sklearn-color-unfitted-level-3);\n",
       "  color: var(--sklearn-color-background);\n",
       "  text-decoration: none;\n",
       "}\n",
       "\n",
       "#sk-container-id-1 a.estimator_doc_link.fitted:hover {\n",
       "  /* fitted */\n",
       "  background-color: var(--sklearn-color-fitted-level-3);\n",
       "}\n",
       "</style><div id=\"sk-container-id-1\" class=\"sk-top-container\"><div class=\"sk-text-repr-fallback\"><pre>FitTransformPipeline(model=RandomForestClassifier(),\n",
       "                     preprocessor=Pipeline(steps=[(&#x27;appendandremovecol&#x27;,\n",
       "                                                   Pipeline(steps=[(&#x27;AreaCode&#x27;,\n",
       "                                                                    Pipeline(steps=[(&#x27;Add_AreaCode_Column&#x27;,\n",
       "                                                                                     AddAreaCodeDropNumber())])),\n",
       "                                                                   (&#x27;Time&#x27;,\n",
       "                                                                    Pipeline(steps=[(&#x27;hour&#x27;,\n",
       "                                                                                     Pipeline(steps=[(&#x27;ToDateTime&#x27;,\n",
       "                                                                                                      ConvertToDatetime()),\n",
       "                                                                                                     (&#x27;Add_Hour_Column&#x27;,\n",
       "                                                                                                      AddHourDropTime())])),\n",
       "                                                                                    (&#x27;binned_time&#x27;,\n",
       "                                                                                     Pipeline(step...\n",
       "                                                                                     &#x27;Call &#x27;\n",
       "                                                                                     &#x27;Frequency &#x27;\n",
       "                                                                                     &#x27;Per &#x27;\n",
       "                                                                                     &#x27;Week&#x27;,\n",
       "                                                                                     &#x27;Area &#x27;\n",
       "                                                                                     &#x27;Code&#x27;,\n",
       "                                                                                     &#x27;PhNoLastDig&#x27;,\n",
       "                                                                                     &#x27;Hour&#x27;]),\n",
       "                                                                                   (&#x27;cat&#x27;,\n",
       "                                                                                    Pipeline(steps=[(&#x27;Text_imputation&#x27;,\n",
       "                                                                                                     SimpleImputer(fill_value=&#x27;&#x27;,\n",
       "                                                                                                                   strategy=&#x27;constant&#x27;)),\n",
       "                                                                                                    (&#x27;OneHot&#x27;,\n",
       "                                                                                                     OneHotEncoder())]),\n",
       "                                                                                    [&#x27;TimeOfDay&#x27;]),\n",
       "                                                                                   (&#x27;text&#x27;,\n",
       "                                                                                    Pipeline(steps=[(&#x27;squeeze&#x27;,\n",
       "                                                                                                     SqueezeTextColumn()),\n",
       "                                                                                                    (&#x27;stemming&#x27;,\n",
       "                                                                                                     StemmingTransformer()),\n",
       "                                                                                                    (&#x27;vectorizer&#x27;,\n",
       "                                                                                                     TfidfVectorizer())]),\n",
       "                                                                                    [&#x27;Conversation&#x27;])]))]))</pre><b>In a Jupyter environment, please rerun this cell to show the HTML representation or trust the notebook. <br />On GitHub, the HTML representation is unable to render, please try loading this page with nbviewer.org.</b></div><div class=\"sk-container\" hidden><div class=\"sk-item sk-dashed-wrapped\"><div class=\"sk-label-container\"><div class=\"sk-label  sk-toggleable\"><input class=\"sk-toggleable__control sk-hidden--visually\" id=\"sk-estimator-id-1\" type=\"checkbox\" ><label for=\"sk-estimator-id-1\" class=\"sk-toggleable__label  sk-toggleable__label-arrow \">&nbsp;FitTransformPipeline<span class=\"sk-estimator-doc-link \">i<span>Not fitted</span></span></label><div class=\"sk-toggleable__content \"><pre>FitTransformPipeline(model=RandomForestClassifier(),\n",
       "                     preprocessor=Pipeline(steps=[(&#x27;appendandremovecol&#x27;,\n",
       "                                                   Pipeline(steps=[(&#x27;AreaCode&#x27;,\n",
       "                                                                    Pipeline(steps=[(&#x27;Add_AreaCode_Column&#x27;,\n",
       "                                                                                     AddAreaCodeDropNumber())])),\n",
       "                                                                   (&#x27;Time&#x27;,\n",
       "                                                                    Pipeline(steps=[(&#x27;hour&#x27;,\n",
       "                                                                                     Pipeline(steps=[(&#x27;ToDateTime&#x27;,\n",
       "                                                                                                      ConvertToDatetime()),\n",
       "                                                                                                     (&#x27;Add_Hour_Column&#x27;,\n",
       "                                                                                                      AddHourDropTime())])),\n",
       "                                                                                    (&#x27;binned_time&#x27;,\n",
       "                                                                                     Pipeline(step...\n",
       "                                                                                     &#x27;Call &#x27;\n",
       "                                                                                     &#x27;Frequency &#x27;\n",
       "                                                                                     &#x27;Per &#x27;\n",
       "                                                                                     &#x27;Week&#x27;,\n",
       "                                                                                     &#x27;Area &#x27;\n",
       "                                                                                     &#x27;Code&#x27;,\n",
       "                                                                                     &#x27;PhNoLastDig&#x27;,\n",
       "                                                                                     &#x27;Hour&#x27;]),\n",
       "                                                                                   (&#x27;cat&#x27;,\n",
       "                                                                                    Pipeline(steps=[(&#x27;Text_imputation&#x27;,\n",
       "                                                                                                     SimpleImputer(fill_value=&#x27;&#x27;,\n",
       "                                                                                                                   strategy=&#x27;constant&#x27;)),\n",
       "                                                                                                    (&#x27;OneHot&#x27;,\n",
       "                                                                                                     OneHotEncoder())]),\n",
       "                                                                                    [&#x27;TimeOfDay&#x27;]),\n",
       "                                                                                   (&#x27;text&#x27;,\n",
       "                                                                                    Pipeline(steps=[(&#x27;squeeze&#x27;,\n",
       "                                                                                                     SqueezeTextColumn()),\n",
       "                                                                                                    (&#x27;stemming&#x27;,\n",
       "                                                                                                     StemmingTransformer()),\n",
       "                                                                                                    (&#x27;vectorizer&#x27;,\n",
       "                                                                                                     TfidfVectorizer())]),\n",
       "                                                                                    [&#x27;Conversation&#x27;])]))]))</pre></div> </div></div><div class=\"sk-parallel\"><div class=\"sk-parallel-item\"><div class=\"sk-item\"><div class=\"sk-label-container\"><div class=\"sk-label  sk-toggleable\"><input class=\"sk-toggleable__control sk-hidden--visually\" id=\"sk-estimator-id-2\" type=\"checkbox\" ><label for=\"sk-estimator-id-2\" class=\"sk-toggleable__label  sk-toggleable__label-arrow \">model: RandomForestClassifier</label><div class=\"sk-toggleable__content \"><pre>RandomForestClassifier()</pre></div> </div></div><div class=\"sk-serial\"><div class=\"sk-item\"><div class=\"sk-estimator  sk-toggleable\"><input class=\"sk-toggleable__control sk-hidden--visually\" id=\"sk-estimator-id-3\" type=\"checkbox\" ><label for=\"sk-estimator-id-3\" class=\"sk-toggleable__label  sk-toggleable__label-arrow \">&nbsp;RandomForestClassifier<a class=\"sk-estimator-doc-link \" rel=\"noreferrer\" target=\"_blank\" href=\"https://scikit-learn.org/1.5/modules/generated/sklearn.ensemble.RandomForestClassifier.html\">?<span>Documentation for RandomForestClassifier</span></a></label><div class=\"sk-toggleable__content \"><pre>RandomForestClassifier()</pre></div> </div></div></div></div></div><div class=\"sk-parallel-item\"><div class=\"sk-item\"><div class=\"sk-label-container\"><div class=\"sk-label  sk-toggleable\"><input class=\"sk-toggleable__control sk-hidden--visually\" id=\"sk-estimator-id-4\" type=\"checkbox\" ><label for=\"sk-estimator-id-4\" class=\"sk-toggleable__label  sk-toggleable__label-arrow \">preprocessor: Pipeline</label><div class=\"sk-toggleable__content \"><pre>Pipeline(steps=[(&#x27;appendandremovecol&#x27;,\n",
       "                 Pipeline(steps=[(&#x27;AreaCode&#x27;,\n",
       "                                  Pipeline(steps=[(&#x27;Add_AreaCode_Column&#x27;,\n",
       "                                                   AddAreaCodeDropNumber())])),\n",
       "                                 (&#x27;Time&#x27;,\n",
       "                                  Pipeline(steps=[(&#x27;hour&#x27;,\n",
       "                                                   Pipeline(steps=[(&#x27;ToDateTime&#x27;,\n",
       "                                                                    ConvertToDatetime()),\n",
       "                                                                   (&#x27;Add_Hour_Column&#x27;,\n",
       "                                                                    AddHourDropTime())])),\n",
       "                                                  (&#x27;binned_time&#x27;,\n",
       "                                                   Pipeline(steps=[(&#x27;Add_time_binned&#x27;,\n",
       "                                                                    TimeOfDayTransformer())]))]))])),\n",
       "                (&#x27;preproce...\n",
       "                                                   &#x27;Call Frequency Per Day&#x27;,\n",
       "                                                   &#x27;Call Frequency Per Week&#x27;,\n",
       "                                                   &#x27;Area Code&#x27;, &#x27;PhNoLastDig&#x27;,\n",
       "                                                   &#x27;Hour&#x27;]),\n",
       "                                                 (&#x27;cat&#x27;,\n",
       "                                                  Pipeline(steps=[(&#x27;Text_imputation&#x27;,\n",
       "                                                                   SimpleImputer(fill_value=&#x27;&#x27;,\n",
       "                                                                                 strategy=&#x27;constant&#x27;)),\n",
       "                                                                  (&#x27;OneHot&#x27;,\n",
       "                                                                   OneHotEncoder())]),\n",
       "                                                  [&#x27;TimeOfDay&#x27;]),\n",
       "                                                 (&#x27;text&#x27;,\n",
       "                                                  Pipeline(steps=[(&#x27;squeeze&#x27;,\n",
       "                                                                   SqueezeTextColumn()),\n",
       "                                                                  (&#x27;stemming&#x27;,\n",
       "                                                                   StemmingTransformer()),\n",
       "                                                                  (&#x27;vectorizer&#x27;,\n",
       "                                                                   TfidfVectorizer())]),\n",
       "                                                  [&#x27;Conversation&#x27;])]))])</pre></div> </div></div><div class=\"sk-serial\"><div class=\"sk-item\"><div class=\"sk-serial\"><div class=\"sk-item\"><div class=\"sk-label-container\"><div class=\"sk-label  sk-toggleable\"><input class=\"sk-toggleable__control sk-hidden--visually\" id=\"sk-estimator-id-5\" type=\"checkbox\" ><label for=\"sk-estimator-id-5\" class=\"sk-toggleable__label  sk-toggleable__label-arrow \">&nbsp;appendandremovecol: Pipeline<a class=\"sk-estimator-doc-link \" rel=\"noreferrer\" target=\"_blank\" href=\"https://scikit-learn.org/1.5/modules/generated/sklearn.pipeline.Pipeline.html\">?<span>Documentation for appendandremovecol: Pipeline</span></a></label><div class=\"sk-toggleable__content \"><pre>Pipeline(steps=[(&#x27;AreaCode&#x27;,\n",
       "                 Pipeline(steps=[(&#x27;Add_AreaCode_Column&#x27;,\n",
       "                                  AddAreaCodeDropNumber())])),\n",
       "                (&#x27;Time&#x27;,\n",
       "                 Pipeline(steps=[(&#x27;hour&#x27;,\n",
       "                                  Pipeline(steps=[(&#x27;ToDateTime&#x27;,\n",
       "                                                   ConvertToDatetime()),\n",
       "                                                  (&#x27;Add_Hour_Column&#x27;,\n",
       "                                                   AddHourDropTime())])),\n",
       "                                 (&#x27;binned_time&#x27;,\n",
       "                                  Pipeline(steps=[(&#x27;Add_time_binned&#x27;,\n",
       "                                                   TimeOfDayTransformer())]))]))])</pre></div> </div></div><div class=\"sk-serial\"><div class=\"sk-item\"><div class=\"sk-label-container\"><div class=\"sk-label  sk-toggleable\"><input class=\"sk-toggleable__control sk-hidden--visually\" id=\"sk-estimator-id-6\" type=\"checkbox\" ><label for=\"sk-estimator-id-6\" class=\"sk-toggleable__label  sk-toggleable__label-arrow \">&nbsp;AreaCode: Pipeline<a class=\"sk-estimator-doc-link \" rel=\"noreferrer\" target=\"_blank\" href=\"https://scikit-learn.org/1.5/modules/generated/sklearn.pipeline.Pipeline.html\">?<span>Documentation for AreaCode: Pipeline</span></a></label><div class=\"sk-toggleable__content \"><pre>Pipeline(steps=[(&#x27;Add_AreaCode_Column&#x27;, AddAreaCodeDropNumber())])</pre></div> </div></div><div class=\"sk-serial\"><div class=\"sk-item\"><div class=\"sk-estimator  sk-toggleable\"><input class=\"sk-toggleable__control sk-hidden--visually\" id=\"sk-estimator-id-7\" type=\"checkbox\" ><label for=\"sk-estimator-id-7\" class=\"sk-toggleable__label  sk-toggleable__label-arrow \">AddAreaCodeDropNumber</label><div class=\"sk-toggleable__content \"><pre>AddAreaCodeDropNumber()</pre></div> </div></div></div></div><div class=\"sk-item\"><div class=\"sk-label-container\"><div class=\"sk-label  sk-toggleable\"><input class=\"sk-toggleable__control sk-hidden--visually\" id=\"sk-estimator-id-8\" type=\"checkbox\" ><label for=\"sk-estimator-id-8\" class=\"sk-toggleable__label  sk-toggleable__label-arrow \">&nbsp;Time: Pipeline<a class=\"sk-estimator-doc-link \" rel=\"noreferrer\" target=\"_blank\" href=\"https://scikit-learn.org/1.5/modules/generated/sklearn.pipeline.Pipeline.html\">?<span>Documentation for Time: Pipeline</span></a></label><div class=\"sk-toggleable__content \"><pre>Pipeline(steps=[(&#x27;hour&#x27;,\n",
       "                 Pipeline(steps=[(&#x27;ToDateTime&#x27;, ConvertToDatetime()),\n",
       "                                 (&#x27;Add_Hour_Column&#x27;, AddHourDropTime())])),\n",
       "                (&#x27;binned_time&#x27;,\n",
       "                 Pipeline(steps=[(&#x27;Add_time_binned&#x27;,\n",
       "                                  TimeOfDayTransformer())]))])</pre></div> </div></div><div class=\"sk-serial\"><div class=\"sk-item\"><div class=\"sk-label-container\"><div class=\"sk-label  sk-toggleable\"><input class=\"sk-toggleable__control sk-hidden--visually\" id=\"sk-estimator-id-9\" type=\"checkbox\" ><label for=\"sk-estimator-id-9\" class=\"sk-toggleable__label  sk-toggleable__label-arrow \">&nbsp;hour: Pipeline<a class=\"sk-estimator-doc-link \" rel=\"noreferrer\" target=\"_blank\" href=\"https://scikit-learn.org/1.5/modules/generated/sklearn.pipeline.Pipeline.html\">?<span>Documentation for hour: Pipeline</span></a></label><div class=\"sk-toggleable__content \"><pre>Pipeline(steps=[(&#x27;ToDateTime&#x27;, ConvertToDatetime()),\n",
       "                (&#x27;Add_Hour_Column&#x27;, AddHourDropTime())])</pre></div> </div></div><div class=\"sk-serial\"><div class=\"sk-item\"><div class=\"sk-estimator  sk-toggleable\"><input class=\"sk-toggleable__control sk-hidden--visually\" id=\"sk-estimator-id-10\" type=\"checkbox\" ><label for=\"sk-estimator-id-10\" class=\"sk-toggleable__label  sk-toggleable__label-arrow \">ConvertToDatetime</label><div class=\"sk-toggleable__content \"><pre>ConvertToDatetime()</pre></div> </div></div><div class=\"sk-item\"><div class=\"sk-estimator  sk-toggleable\"><input class=\"sk-toggleable__control sk-hidden--visually\" id=\"sk-estimator-id-11\" type=\"checkbox\" ><label for=\"sk-estimator-id-11\" class=\"sk-toggleable__label  sk-toggleable__label-arrow \">AddHourDropTime</label><div class=\"sk-toggleable__content \"><pre>AddHourDropTime()</pre></div> </div></div></div></div><div class=\"sk-item\"><div class=\"sk-label-container\"><div class=\"sk-label  sk-toggleable\"><input class=\"sk-toggleable__control sk-hidden--visually\" id=\"sk-estimator-id-12\" type=\"checkbox\" ><label for=\"sk-estimator-id-12\" class=\"sk-toggleable__label  sk-toggleable__label-arrow \">&nbsp;binned_time: Pipeline<a class=\"sk-estimator-doc-link \" rel=\"noreferrer\" target=\"_blank\" href=\"https://scikit-learn.org/1.5/modules/generated/sklearn.pipeline.Pipeline.html\">?<span>Documentation for binned_time: Pipeline</span></a></label><div class=\"sk-toggleable__content \"><pre>Pipeline(steps=[(&#x27;Add_time_binned&#x27;, TimeOfDayTransformer())])</pre></div> </div></div><div class=\"sk-serial\"><div class=\"sk-item\"><div class=\"sk-estimator  sk-toggleable\"><input class=\"sk-toggleable__control sk-hidden--visually\" id=\"sk-estimator-id-13\" type=\"checkbox\" ><label for=\"sk-estimator-id-13\" class=\"sk-toggleable__label  sk-toggleable__label-arrow \">TimeOfDayTransformer</label><div class=\"sk-toggleable__content \"><pre>TimeOfDayTransformer()</pre></div> </div></div></div></div></div></div></div></div><div class=\"sk-item sk-dashed-wrapped\"><div class=\"sk-label-container\"><div class=\"sk-label  sk-toggleable\"><input class=\"sk-toggleable__control sk-hidden--visually\" id=\"sk-estimator-id-14\" type=\"checkbox\" ><label for=\"sk-estimator-id-14\" class=\"sk-toggleable__label  sk-toggleable__label-arrow \">&nbsp;preprocessor: ColumnTransformer<a class=\"sk-estimator-doc-link \" rel=\"noreferrer\" target=\"_blank\" href=\"https://scikit-learn.org/1.5/modules/generated/sklearn.compose.ColumnTransformer.html\">?<span>Documentation for preprocessor: ColumnTransformer</span></a></label><div class=\"sk-toggleable__content \"><pre>ColumnTransformer(transformers=[(&#x27;num&#x27;,\n",
       "                                 Pipeline(steps=[(&#x27;Imputation_median&#x27;,\n",
       "                                                  SimpleImputer(strategy=&#x27;median&#x27;)),\n",
       "                                                 (&#x27;scaler&#x27;, StandardScaler())]),\n",
       "                                 [&#x27;Call Duration(in s)&#x27;,\n",
       "                                  &#x27;Call Frequency Per Day&#x27;,\n",
       "                                  &#x27;Call Frequency Per Week&#x27;, &#x27;Area Code&#x27;,\n",
       "                                  &#x27;PhNoLastDig&#x27;, &#x27;Hour&#x27;]),\n",
       "                                (&#x27;cat&#x27;,\n",
       "                                 Pipeline(steps=[(&#x27;Text_imputation&#x27;,\n",
       "                                                  SimpleImputer(fill_value=&#x27;&#x27;,\n",
       "                                                                strategy=&#x27;constant&#x27;)),\n",
       "                                                 (&#x27;OneHot&#x27;, OneHotEncoder())]),\n",
       "                                 [&#x27;TimeOfDay&#x27;]),\n",
       "                                (&#x27;text&#x27;,\n",
       "                                 Pipeline(steps=[(&#x27;squeeze&#x27;,\n",
       "                                                  SqueezeTextColumn()),\n",
       "                                                 (&#x27;stemming&#x27;,\n",
       "                                                  StemmingTransformer()),\n",
       "                                                 (&#x27;vectorizer&#x27;,\n",
       "                                                  TfidfVectorizer())]),\n",
       "                                 [&#x27;Conversation&#x27;])])</pre></div> </div></div><div class=\"sk-parallel\"><div class=\"sk-parallel-item\"><div class=\"sk-item\"><div class=\"sk-label-container\"><div class=\"sk-label  sk-toggleable\"><input class=\"sk-toggleable__control sk-hidden--visually\" id=\"sk-estimator-id-15\" type=\"checkbox\" ><label for=\"sk-estimator-id-15\" class=\"sk-toggleable__label  sk-toggleable__label-arrow \">num</label><div class=\"sk-toggleable__content \"><pre>[&#x27;Call Duration(in s)&#x27;, &#x27;Call Frequency Per Day&#x27;, &#x27;Call Frequency Per Week&#x27;, &#x27;Area Code&#x27;, &#x27;PhNoLastDig&#x27;, &#x27;Hour&#x27;]</pre></div> </div></div><div class=\"sk-serial\"><div class=\"sk-item\"><div class=\"sk-serial\"><div class=\"sk-item\"><div class=\"sk-estimator  sk-toggleable\"><input class=\"sk-toggleable__control sk-hidden--visually\" id=\"sk-estimator-id-16\" type=\"checkbox\" ><label for=\"sk-estimator-id-16\" class=\"sk-toggleable__label  sk-toggleable__label-arrow \">&nbsp;SimpleImputer<a class=\"sk-estimator-doc-link \" rel=\"noreferrer\" target=\"_blank\" href=\"https://scikit-learn.org/1.5/modules/generated/sklearn.impute.SimpleImputer.html\">?<span>Documentation for SimpleImputer</span></a></label><div class=\"sk-toggleable__content \"><pre>SimpleImputer(strategy=&#x27;median&#x27;)</pre></div> </div></div><div class=\"sk-item\"><div class=\"sk-estimator  sk-toggleable\"><input class=\"sk-toggleable__control sk-hidden--visually\" id=\"sk-estimator-id-17\" type=\"checkbox\" ><label for=\"sk-estimator-id-17\" class=\"sk-toggleable__label  sk-toggleable__label-arrow \">&nbsp;StandardScaler<a class=\"sk-estimator-doc-link \" rel=\"noreferrer\" target=\"_blank\" href=\"https://scikit-learn.org/1.5/modules/generated/sklearn.preprocessing.StandardScaler.html\">?<span>Documentation for StandardScaler</span></a></label><div class=\"sk-toggleable__content \"><pre>StandardScaler()</pre></div> </div></div></div></div></div></div></div><div class=\"sk-parallel-item\"><div class=\"sk-item\"><div class=\"sk-label-container\"><div class=\"sk-label  sk-toggleable\"><input class=\"sk-toggleable__control sk-hidden--visually\" id=\"sk-estimator-id-18\" type=\"checkbox\" ><label for=\"sk-estimator-id-18\" class=\"sk-toggleable__label  sk-toggleable__label-arrow \">cat</label><div class=\"sk-toggleable__content \"><pre>[&#x27;TimeOfDay&#x27;]</pre></div> </div></div><div class=\"sk-serial\"><div class=\"sk-item\"><div class=\"sk-serial\"><div class=\"sk-item\"><div class=\"sk-estimator  sk-toggleable\"><input class=\"sk-toggleable__control sk-hidden--visually\" id=\"sk-estimator-id-19\" type=\"checkbox\" ><label for=\"sk-estimator-id-19\" class=\"sk-toggleable__label  sk-toggleable__label-arrow \">&nbsp;SimpleImputer<a class=\"sk-estimator-doc-link \" rel=\"noreferrer\" target=\"_blank\" href=\"https://scikit-learn.org/1.5/modules/generated/sklearn.impute.SimpleImputer.html\">?<span>Documentation for SimpleImputer</span></a></label><div class=\"sk-toggleable__content \"><pre>SimpleImputer(fill_value=&#x27;&#x27;, strategy=&#x27;constant&#x27;)</pre></div> </div></div><div class=\"sk-item\"><div class=\"sk-estimator  sk-toggleable\"><input class=\"sk-toggleable__control sk-hidden--visually\" id=\"sk-estimator-id-20\" type=\"checkbox\" ><label for=\"sk-estimator-id-20\" class=\"sk-toggleable__label  sk-toggleable__label-arrow \">&nbsp;OneHotEncoder<a class=\"sk-estimator-doc-link \" rel=\"noreferrer\" target=\"_blank\" href=\"https://scikit-learn.org/1.5/modules/generated/sklearn.preprocessing.OneHotEncoder.html\">?<span>Documentation for OneHotEncoder</span></a></label><div class=\"sk-toggleable__content \"><pre>OneHotEncoder()</pre></div> </div></div></div></div></div></div></div><div class=\"sk-parallel-item\"><div class=\"sk-item\"><div class=\"sk-label-container\"><div class=\"sk-label  sk-toggleable\"><input class=\"sk-toggleable__control sk-hidden--visually\" id=\"sk-estimator-id-21\" type=\"checkbox\" ><label for=\"sk-estimator-id-21\" class=\"sk-toggleable__label  sk-toggleable__label-arrow \">text</label><div class=\"sk-toggleable__content \"><pre>[&#x27;Conversation&#x27;]</pre></div> </div></div><div class=\"sk-serial\"><div class=\"sk-item\"><div class=\"sk-serial\"><div class=\"sk-item\"><div class=\"sk-estimator  sk-toggleable\"><input class=\"sk-toggleable__control sk-hidden--visually\" id=\"sk-estimator-id-22\" type=\"checkbox\" ><label for=\"sk-estimator-id-22\" class=\"sk-toggleable__label  sk-toggleable__label-arrow \">SqueezeTextColumn</label><div class=\"sk-toggleable__content \"><pre>SqueezeTextColumn()</pre></div> </div></div><div class=\"sk-item\"><div class=\"sk-estimator  sk-toggleable\"><input class=\"sk-toggleable__control sk-hidden--visually\" id=\"sk-estimator-id-23\" type=\"checkbox\" ><label for=\"sk-estimator-id-23\" class=\"sk-toggleable__label  sk-toggleable__label-arrow \">StemmingTransformer</label><div class=\"sk-toggleable__content \"><pre>StemmingTransformer()</pre></div> </div></div><div class=\"sk-item\"><div class=\"sk-estimator  sk-toggleable\"><input class=\"sk-toggleable__control sk-hidden--visually\" id=\"sk-estimator-id-24\" type=\"checkbox\" ><label for=\"sk-estimator-id-24\" class=\"sk-toggleable__label  sk-toggleable__label-arrow \">&nbsp;TfidfVectorizer<a class=\"sk-estimator-doc-link \" rel=\"noreferrer\" target=\"_blank\" href=\"https://scikit-learn.org/1.5/modules/generated/sklearn.feature_extraction.text.TfidfVectorizer.html\">?<span>Documentation for TfidfVectorizer</span></a></label><div class=\"sk-toggleable__content \"><pre>TfidfVectorizer()</pre></div> </div></div></div></div></div></div></div></div></div></div></div></div></div></div></div></div></div></div>"
      ],
      "text/plain": [
       "FitTransformPipeline(model=RandomForestClassifier(),\n",
       "                     preprocessor=Pipeline(steps=[('appendandremovecol',\n",
       "                                                   Pipeline(steps=[('AreaCode',\n",
       "                                                                    Pipeline(steps=[('Add_AreaCode_Column',\n",
       "                                                                                     AddAreaCodeDropNumber())])),\n",
       "                                                                   ('Time',\n",
       "                                                                    Pipeline(steps=[('hour',\n",
       "                                                                                     Pipeline(steps=[('ToDateTime',\n",
       "                                                                                                      ConvertToDatetime()),\n",
       "                                                                                                     ('Add_Hour_Column',\n",
       "                                                                                                      AddHourDropTime())])),\n",
       "                                                                                    ('binned_time',\n",
       "                                                                                     Pipeline(step...\n",
       "                                                                                     'Call '\n",
       "                                                                                     'Frequency '\n",
       "                                                                                     'Per '\n",
       "                                                                                     'Week',\n",
       "                                                                                     'Area '\n",
       "                                                                                     'Code',\n",
       "                                                                                     'PhNoLastDig',\n",
       "                                                                                     'Hour']),\n",
       "                                                                                   ('cat',\n",
       "                                                                                    Pipeline(steps=[('Text_imputation',\n",
       "                                                                                                     SimpleImputer(fill_value='',\n",
       "                                                                                                                   strategy='constant')),\n",
       "                                                                                                    ('OneHot',\n",
       "                                                                                                     OneHotEncoder())]),\n",
       "                                                                                    ['TimeOfDay']),\n",
       "                                                                                   ('text',\n",
       "                                                                                    Pipeline(steps=[('squeeze',\n",
       "                                                                                                     SqueezeTextColumn()),\n",
       "                                                                                                    ('stemming',\n",
       "                                                                                                     StemmingTransformer()),\n",
       "                                                                                                    ('vectorizer',\n",
       "                                                                                                     TfidfVectorizer())]),\n",
       "                                                                                    ['Conversation'])]))]))"
      ]
     },
     "execution_count": 43,
     "metadata": {},
     "output_type": "execute_result"
    }
   ],
   "source": [
    "final_pipeline.fit(X_resampled,y_resampled)"
   ]
  },
  {
   "cell_type": "code",
   "execution_count": 44,
   "metadata": {},
   "outputs": [],
   "source": [
    "y_pred_train = final_pipeline.predict(X_resampled)"
   ]
  },
  {
   "cell_type": "code",
   "execution_count": 45,
   "metadata": {},
   "outputs": [],
   "source": [
    "f1_train = f1_score(y_resampled, y_pred_train,average='macro')\n",
    "accuracy_train = accuracy_score(y_resampled, y_pred_train)"
   ]
  },
  {
   "cell_type": "code",
   "execution_count": 46,
   "metadata": {},
   "outputs": [
    {
     "name": "stdout",
     "output_type": "stream",
     "text": [
      "F1 Scores of Training Data: 1.0000\n",
      "Accuracy Scores of Training Data: 1.0000\n"
     ]
    }
   ],
   "source": [
    "print(f\"F1 Scores of Training Data: {f1_train:.4f}\")\n",
    "print(f\"Accuracy Scores of Training Data: {accuracy_train:.4f}\")"
   ]
  },
  {
   "cell_type": "code",
   "execution_count": 47,
   "metadata": {},
   "outputs": [],
   "source": [
    "y_pred_eval = final_pipeline.predict(X_eval)"
   ]
  },
  {
   "cell_type": "code",
   "execution_count": 48,
   "metadata": {},
   "outputs": [],
   "source": [
    "f1_eval = f1_score(y_eval, y_pred_eval,average='macro')\n",
    "accuracy_eval = accuracy_score(y_eval, y_pred_eval)"
   ]
  },
  {
   "cell_type": "code",
   "execution_count": 49,
   "metadata": {},
   "outputs": [
    {
     "name": "stdout",
     "output_type": "stream",
     "text": [
      "F1 Scores of Eval data: 0.9624\n",
      "Accuracy Scores of Eval data: 0.9892\n"
     ]
    }
   ],
   "source": [
    "print(f\"F1 Scores of Eval data: {f1_eval:.4f}\")\n",
    "print(f\"Accuracy Scores of Eval data: {accuracy_eval:.4f}\")"
   ]
  },
  {
   "cell_type": "code",
   "execution_count": 50,
   "metadata": {},
   "outputs": [
    {
     "data": {
      "text/html": [
       "<div>\n",
       "<style scoped>\n",
       "    .dataframe tbody tr th:only-of-type {\n",
       "        vertical-align: middle;\n",
       "    }\n",
       "\n",
       "    .dataframe tbody tr th {\n",
       "        vertical-align: top;\n",
       "    }\n",
       "\n",
       "    .dataframe thead th {\n",
       "        text-align: right;\n",
       "    }\n",
       "</style>\n",
       "<table border=\"1\" class=\"dataframe\">\n",
       "  <thead>\n",
       "    <tr style=\"text-align: right;\">\n",
       "      <th></th>\n",
       "      <th>Caller Number</th>\n",
       "      <th>Call Time</th>\n",
       "      <th>Call Duration(in s)</th>\n",
       "      <th>Call Frequency Per Day</th>\n",
       "      <th>Call Frequency Per Week</th>\n",
       "      <th>Conversation</th>\n",
       "    </tr>\n",
       "  </thead>\n",
       "  <tbody>\n",
       "    <tr>\n",
       "      <th>0</th>\n",
       "      <td>+1-572-358-7183</td>\n",
       "      <td>17:45:56</td>\n",
       "      <td>138</td>\n",
       "      <td>3</td>\n",
       "      <td>15</td>\n",
       "      <td>Life is more strict than teacher... Because Te...</td>\n",
       "    </tr>\n",
       "    <tr>\n",
       "      <th>1</th>\n",
       "      <td>+1-917-998-6266</td>\n",
       "      <td>08:25:24</td>\n",
       "      <td>235</td>\n",
       "      <td>7</td>\n",
       "      <td>37</td>\n",
       "      <td>Sorry, I'll call later In meeting.</td>\n",
       "    </tr>\n",
       "    <tr>\n",
       "      <th>2</th>\n",
       "      <td>+1-323-414-2068</td>\n",
       "      <td>08:01:45</td>\n",
       "      <td>350</td>\n",
       "      <td>4</td>\n",
       "      <td>12</td>\n",
       "      <td>HIYA STU WOT U of 2.of of of MUCH TRUBLE of HO...</td>\n",
       "    </tr>\n",
       "    <tr>\n",
       "      <th>3</th>\n",
       "      <td>+1-646-804-3708</td>\n",
       "      <td>20:08:16</td>\n",
       "      <td>148</td>\n",
       "      <td>3</td>\n",
       "      <td>11</td>\n",
       "      <td>He hungry buy some food good let... But sum n ...</td>\n",
       "    </tr>\n",
       "    <tr>\n",
       "      <th>4</th>\n",
       "      <td>+1-323-378-4448</td>\n",
       "      <td>09:04:55</td>\n",
       "      <td>66</td>\n",
       "      <td>4</td>\n",
       "      <td>30</td>\n",
       "      <td>Not yet chink..going to room no, i'm in bus..</td>\n",
       "    </tr>\n",
       "  </tbody>\n",
       "</table>\n",
       "</div>"
      ],
      "text/plain": [
       "     Caller Number Call Time  Call Duration(in s)  Call Frequency Per Day  \\\n",
       "0  +1-572-358-7183  17:45:56                  138                       3   \n",
       "1  +1-917-998-6266  08:25:24                  235                       7   \n",
       "2  +1-323-414-2068  08:01:45                  350                       4   \n",
       "3  +1-646-804-3708  20:08:16                  148                       3   \n",
       "4  +1-323-378-4448  09:04:55                   66                       4   \n",
       "\n",
       "   Call Frequency Per Week                                       Conversation  \n",
       "0                       15  Life is more strict than teacher... Because Te...  \n",
       "1                       37                 Sorry, I'll call later In meeting.  \n",
       "2                       12  HIYA STU WOT U of 2.of of of MUCH TRUBLE of HO...  \n",
       "3                       11  He hungry buy some food good let... But sum n ...  \n",
       "4                       30      Not yet chink..going to room no, i'm in bus..  "
      ]
     },
     "execution_count": 50,
     "metadata": {},
     "output_type": "execute_result"
    }
   ],
   "source": [
    "X_test.head()"
   ]
  },
  {
   "cell_type": "code",
   "execution_count": 51,
   "metadata": {},
   "outputs": [],
   "source": [
    "y_pred_test = final_pipeline.predict(X_test)"
   ]
  },
  {
   "cell_type": "code",
   "execution_count": 52,
   "metadata": {},
   "outputs": [],
   "source": [
    "f1_test = f1_score(y_test, y_pred_test,average='macro')\n",
    "accuracy_test = accuracy_score(y_test, y_pred_test)"
   ]
  },
  {
   "cell_type": "code",
   "execution_count": 53,
   "metadata": {},
   "outputs": [
    {
     "name": "stdout",
     "output_type": "stream",
     "text": [
      "F1 Scores of Test Data: 0.9394\n",
      "Accuracy Scores of Test Data: 0.9872\n"
     ]
    }
   ],
   "source": [
    "print(f\"F1 Scores of Test Data: {f1_test:.4f}\")\n",
    "print(f\"Accuracy Scores of Test Data: {accuracy_test:.4f}\")"
   ]
  },
  {
   "cell_type": "code",
   "execution_count": 54,
   "metadata": {},
   "outputs": [
    {
     "data": {
      "text/plain": [
       "array(['Normal'], dtype=object)"
      ]
     },
     "execution_count": 54,
     "metadata": {},
     "output_type": "execute_result"
    }
   ],
   "source": [
    "features = np.array([['+1-213-543-7293','16:05:12',415,4,20,'Or then ü bring war... Ilya later i come n c war... May ü neve set properly ü got da help sheet if ü...']])\n",
    "column_names = ['Caller Number', 'Call Time', 'Call Duration(in s)', 'Call Frequency Per Day', 'Call Frequency Per Week', 'Conversation']\n",
    "final_features = pd.DataFrame(features, columns=column_names)\n",
    "final_pipeline.predict(final_features)"
   ]
  },
  {
   "cell_type": "code",
   "execution_count": 55,
   "metadata": {},
   "outputs": [
    {
     "name": "stdout",
     "output_type": "stream",
     "text": [
      "Model saved successfully.\n"
     ]
    }
   ],
   "source": [
    "joblib.dump(final_pipeline, 'model_pipeline.joblib')\n",
    "print(\"Model saved successfully.\")"
   ]
  },
  {
   "cell_type": "code",
   "execution_count": 56,
   "metadata": {},
   "outputs": [
    {
     "name": "stdout",
     "output_type": "stream",
     "text": [
      "Model loaded successfully.\n"
     ]
    }
   ],
   "source": [
    "loaded_pipeline = joblib.load('model_pipeline.joblib')\n",
    "print(\"Model loaded successfully.\")"
   ]
  },
  {
   "cell_type": "code",
   "execution_count": 57,
   "metadata": {},
   "outputs": [
    {
     "name": "stdout",
     "output_type": "stream",
     "text": [
      "Predictions: ['Spam']\n"
     ]
    }
   ],
   "source": [
    "features_new = pd.DataFrame(\n",
    "    [['+1-213-362-2258', '18:14:35', 96, 10, 52, 'Spam', \n",
    "      'Santa Calling! Would your little ones like a call from Santa Was eve? All 09058094583 to book your time.']],\n",
    "    columns=['Caller Number', 'Call Time', 'Call Duration(in s)', \n",
    "             'Call Frequency Per Day', 'Call Frequency Per Week', \n",
    "             'Category', 'Conversation']\n",
    ")\n",
    "predictions = loaded_pipeline.predict(features_new)\n",
    "print(\"Predictions:\", predictions)"
   ]
  },
  {
   "cell_type": "code",
   "execution_count": 58,
   "metadata": {},
   "outputs": [
    {
     "name": "stdout",
     "output_type": "stream",
     "text": [
      "Predictions: ['Scam']\n"
     ]
    }
   ],
   "source": [
    "features_1 = pd.DataFrame([[\n",
    "    '+1-718-693-2776', '09:25:37', 1090, 12, 30, \"hello sir, i am from si bank, sir i have call you for your bank account purification do you want verify your account. sir then tell me your zakhar card number and pan card and your debit/credit card number.\"  ]], \n",
    "    columns=['Caller Number', 'Call Time', 'Call Duration(in s)', 'Call Frequency Per Day', 'Call Frequency Per Week', 'Conversation']\n",
    ")\n",
    "predictions_1 = loaded_pipeline.predict(features_1)\n",
    "print(\"Predictions:\", predictions_1)"
   ]
  }
 ],
 "metadata": {
  "kernelspec": {
   "display_name": "myenv",
   "language": "python",
   "name": "python3"
  },
  "language_info": {
   "codemirror_mode": {
    "name": "ipython",
    "version": 3
   },
   "file_extension": ".py",
   "mimetype": "text/x-python",
   "name": "python",
   "nbconvert_exporter": "python",
   "pygments_lexer": "ipython3",
   "version": "3.12.6"
  }
 },
 "nbformat": 4,
 "nbformat_minor": 2
}
