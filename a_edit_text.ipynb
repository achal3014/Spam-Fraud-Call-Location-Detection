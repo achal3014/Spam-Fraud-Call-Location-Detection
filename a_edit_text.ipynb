{
 "cells": [
  {
   "cell_type": "markdown",
   "metadata": {},
   "source": [
    "## Data Collection"
   ]
  },
  {
   "cell_type": "markdown",
   "metadata": {},
   "source": [
    "Importing necessary dependencies\n",
    "\n"
   ]
  },
  {
   "cell_type": "code",
   "execution_count": 16,
   "metadata": {},
   "outputs": [],
   "source": [
    "import numpy as np\n",
    "import pandas as pd"
   ]
  },
  {
   "cell_type": "code",
   "execution_count": 17,
   "metadata": {},
   "outputs": [
    {
     "data": {
      "text/html": [
       "<div>\n",
       "<style scoped>\n",
       "    .dataframe tbody tr th:only-of-type {\n",
       "        vertical-align: middle;\n",
       "    }\n",
       "\n",
       "    .dataframe tbody tr th {\n",
       "        vertical-align: top;\n",
       "    }\n",
       "\n",
       "    .dataframe thead th {\n",
       "        text-align: right;\n",
       "    }\n",
       "</style>\n",
       "<table border=\"1\" class=\"dataframe\">\n",
       "  <thead>\n",
       "    <tr style=\"text-align: right;\">\n",
       "      <th></th>\n",
       "      <th>Caller Number</th>\n",
       "      <th>Call Time</th>\n",
       "      <th>Call Duration(in s)</th>\n",
       "      <th>Call Frequency Per Day</th>\n",
       "      <th>Call Frequency Per Week</th>\n",
       "      <th>Call Type</th>\n",
       "      <th>Conversation</th>\n",
       "    </tr>\n",
       "  </thead>\n",
       "  <tbody>\n",
       "    <tr>\n",
       "      <th>0</th>\n",
       "      <td>+1-508-604-1419</td>\n",
       "      <td>15:28:51</td>\n",
       "      <td>292</td>\n",
       "      <td>5</td>\n",
       "      <td>18</td>\n",
       "      <td>Normal</td>\n",
       "      <td>Hope. Since ago travelled, he has forgotten hi...</td>\n",
       "    </tr>\n",
       "    <tr>\n",
       "      <th>1</th>\n",
       "      <td>+1-718-784-6136</td>\n",
       "      <td>14:21:05</td>\n",
       "      <td>1160</td>\n",
       "      <td>5</td>\n",
       "      <td>8</td>\n",
       "      <td>Normal</td>\n",
       "      <td>Horrible you eat mass eat until u forgot about...</td>\n",
       "    </tr>\n",
       "    <tr>\n",
       "      <th>2</th>\n",
       "      <td>+1-832-572-2250</td>\n",
       "      <td>12:22:11</td>\n",
       "      <td>293</td>\n",
       "      <td>4</td>\n",
       "      <td>8</td>\n",
       "      <td>Normal</td>\n",
       "      <td>Great! I have to run now so ttyl!</td>\n",
       "    </tr>\n",
       "    <tr>\n",
       "      <th>3</th>\n",
       "      <td>+1-628-833-1234</td>\n",
       "      <td>20:32:32</td>\n",
       "      <td>502</td>\n",
       "      <td>3</td>\n",
       "      <td>6</td>\n",
       "      <td>Normal</td>\n",
       "      <td>Sorry, I'll call later</td>\n",
       "    </tr>\n",
       "    <tr>\n",
       "      <th>4</th>\n",
       "      <td>+1-628-250-9398</td>\n",
       "      <td>09:17:45</td>\n",
       "      <td>141</td>\n",
       "      <td>3</td>\n",
       "      <td>36</td>\n",
       "      <td>Normal</td>\n",
       "      <td>Jay wants to work out first, how's 4 sound?</td>\n",
       "    </tr>\n",
       "  </tbody>\n",
       "</table>\n",
       "</div>"
      ],
      "text/plain": [
       "     Caller Number Call Time  Call Duration(in s)  Call Frequency Per Day  \\\n",
       "0  +1-508-604-1419  15:28:51                  292                       5   \n",
       "1  +1-718-784-6136  14:21:05                 1160                       5   \n",
       "2  +1-832-572-2250  12:22:11                  293                       4   \n",
       "3  +1-628-833-1234  20:32:32                  502                       3   \n",
       "4  +1-628-250-9398  09:17:45                  141                       3   \n",
       "\n",
       "   Call Frequency Per Week Call Type  \\\n",
       "0                       18    Normal   \n",
       "1                        8    Normal   \n",
       "2                        8    Normal   \n",
       "3                        6    Normal   \n",
       "4                       36    Normal   \n",
       "\n",
       "                                        Conversation  \n",
       "0  Hope. Since ago travelled, he has forgotten hi...  \n",
       "1  Horrible you eat mass eat until u forgot about...  \n",
       "2                  Great! I have to run now so ttyl!  \n",
       "3                             Sorry, I'll call later  \n",
       "4        Jay wants to work out first, how's 4 sound?  "
      ]
     },
     "execution_count": 17,
     "metadata": {},
     "output_type": "execute_result"
    }
   ],
   "source": [
    "fraud_df = pd.read_csv(\"corrected_names.csv\")\n",
    "fraud_df.head()"
   ]
  },
  {
   "cell_type": "code",
   "execution_count": 18,
   "metadata": {},
   "outputs": [
    {
     "data": {
      "text/html": [
       "<div>\n",
       "<style scoped>\n",
       "    .dataframe tbody tr th:only-of-type {\n",
       "        vertical-align: middle;\n",
       "    }\n",
       "\n",
       "    .dataframe tbody tr th {\n",
       "        vertical-align: top;\n",
       "    }\n",
       "\n",
       "    .dataframe thead th {\n",
       "        text-align: right;\n",
       "    }\n",
       "</style>\n",
       "<table border=\"1\" class=\"dataframe\">\n",
       "  <thead>\n",
       "    <tr style=\"text-align: right;\">\n",
       "      <th></th>\n",
       "      <th>Caller Number</th>\n",
       "      <th>Call Time</th>\n",
       "      <th>Call Duration(in s)</th>\n",
       "      <th>Call Frequency Per Day</th>\n",
       "      <th>Call Frequency Per Week</th>\n",
       "      <th>Call Type</th>\n",
       "      <th>Conversation</th>\n",
       "    </tr>\n",
       "  </thead>\n",
       "  <tbody>\n",
       "    <tr>\n",
       "      <th>0</th>\n",
       "      <td>+1-508-604-1419</td>\n",
       "      <td>15:28:51</td>\n",
       "      <td>292</td>\n",
       "      <td>5</td>\n",
       "      <td>18</td>\n",
       "      <td>Normal</td>\n",
       "      <td>Hope. Since ago travelled, he has forgotten hi...</td>\n",
       "    </tr>\n",
       "    <tr>\n",
       "      <th>1</th>\n",
       "      <td>+1-718-784-6136</td>\n",
       "      <td>14:21:05</td>\n",
       "      <td>1160</td>\n",
       "      <td>5</td>\n",
       "      <td>8</td>\n",
       "      <td>Normal</td>\n",
       "      <td>Horrible you eat mass eat until u forgot about...</td>\n",
       "    </tr>\n",
       "    <tr>\n",
       "      <th>2</th>\n",
       "      <td>+1-832-572-2250</td>\n",
       "      <td>12:22:11</td>\n",
       "      <td>293</td>\n",
       "      <td>4</td>\n",
       "      <td>8</td>\n",
       "      <td>Normal</td>\n",
       "      <td>Great! I have to run now so ttyl!</td>\n",
       "    </tr>\n",
       "    <tr>\n",
       "      <th>3</th>\n",
       "      <td>+1-628-833-1234</td>\n",
       "      <td>20:32:32</td>\n",
       "      <td>502</td>\n",
       "      <td>3</td>\n",
       "      <td>6</td>\n",
       "      <td>Normal</td>\n",
       "      <td>Sorry, I'll call later</td>\n",
       "    </tr>\n",
       "    <tr>\n",
       "      <th>4</th>\n",
       "      <td>+1-628-250-9398</td>\n",
       "      <td>09:17:45</td>\n",
       "      <td>141</td>\n",
       "      <td>3</td>\n",
       "      <td>36</td>\n",
       "      <td>Normal</td>\n",
       "      <td>Jay wants to work out first, how's 4 sound?</td>\n",
       "    </tr>\n",
       "  </tbody>\n",
       "</table>\n",
       "</div>"
      ],
      "text/plain": [
       "     Caller Number Call Time  Call Duration(in s)  Call Frequency Per Day  \\\n",
       "0  +1-508-604-1419  15:28:51                  292                       5   \n",
       "1  +1-718-784-6136  14:21:05                 1160                       5   \n",
       "2  +1-832-572-2250  12:22:11                  293                       4   \n",
       "3  +1-628-833-1234  20:32:32                  502                       3   \n",
       "4  +1-628-250-9398  09:17:45                  141                       3   \n",
       "\n",
       "   Call Frequency Per Week Call Type  \\\n",
       "0                       18    Normal   \n",
       "1                        8    Normal   \n",
       "2                        8    Normal   \n",
       "3                        6    Normal   \n",
       "4                       36    Normal   \n",
       "\n",
       "                                        Conversation  \n",
       "0  Hope. Since ago travelled, he has forgotten hi...  \n",
       "1  Horrible you eat mass eat until u forgot about...  \n",
       "2                  Great! I have to run now so ttyl!  \n",
       "3                             Sorry, I'll call later  \n",
       "4        Jay wants to work out first, how's 4 sound?  "
      ]
     },
     "execution_count": 18,
     "metadata": {},
     "output_type": "execute_result"
    }
   ],
   "source": [
    "fraud_df.head()"
   ]
  },
  {
   "cell_type": "markdown",
   "metadata": {},
   "source": [
    "## Data Preprocessing - 1"
   ]
  },
  {
   "cell_type": "code",
   "execution_count": 19,
   "metadata": {},
   "outputs": [
    {
     "name": "stdout",
     "output_type": "stream",
     "text": [
      "<class 'pandas.core.frame.DataFrame'>\n",
      "RangeIndex: 17590 entries, 0 to 17589\n",
      "Data columns (total 7 columns):\n",
      " #   Column                   Non-Null Count  Dtype \n",
      "---  ------                   --------------  ----- \n",
      " 0   Caller Number            17590 non-null  object\n",
      " 1   Call Time                17590 non-null  object\n",
      " 2   Call Duration(in s)      17590 non-null  int64 \n",
      " 3   Call Frequency Per Day   17590 non-null  int64 \n",
      " 4   Call Frequency Per Week  17590 non-null  int64 \n",
      " 5   Call Type                17590 non-null  object\n",
      " 6   Conversation             17590 non-null  object\n",
      "dtypes: int64(3), object(4)\n",
      "memory usage: 962.1+ KB\n"
     ]
    }
   ],
   "source": [
    "fraud_df.info()"
   ]
  },
  {
   "cell_type": "markdown",
   "metadata": {},
   "source": [
    "Replacing Null values with appropriate substitutes"
   ]
  },
  {
   "cell_type": "code",
   "execution_count": 20,
   "metadata": {},
   "outputs": [
    {
     "data": {
      "text/plain": [
       "np.False_"
      ]
     },
     "execution_count": 20,
     "metadata": {},
     "output_type": "execute_result"
    }
   ],
   "source": [
    "fraud_df.isnull().values.any()   #Output implies that there exist no null values in the dataset"
   ]
  },
  {
   "cell_type": "code",
   "execution_count": 21,
   "metadata": {},
   "outputs": [
    {
     "name": "stdout",
     "output_type": "stream",
     "text": [
      "[]\n"
     ]
    }
   ],
   "source": [
    "columns_with_null = fraud_df.columns[fraud_df.isnull().any()].tolist()\n",
    "print(columns_with_null)\n"
   ]
  },
  {
   "cell_type": "code",
   "execution_count": 22,
   "metadata": {},
   "outputs": [
    {
     "name": "stdout",
     "output_type": "stream",
     "text": [
      "<class 'pandas.core.frame.DataFrame'>\n",
      "RangeIndex: 17590 entries, 0 to 17589\n",
      "Data columns (total 7 columns):\n",
      " #   Column                   Non-Null Count  Dtype \n",
      "---  ------                   --------------  ----- \n",
      " 0   Caller Number            17590 non-null  object\n",
      " 1   Call Time                17590 non-null  object\n",
      " 2   Call Duration(in s)      17590 non-null  int64 \n",
      " 3   Call Frequency Per Day   17590 non-null  int64 \n",
      " 4   Call Frequency Per Week  17590 non-null  int64 \n",
      " 5   Call Type                17590 non-null  object\n",
      " 6   Conversation             17590 non-null  object\n",
      "dtypes: int64(3), object(4)\n",
      "memory usage: 962.1+ KB\n"
     ]
    }
   ],
   "source": [
    "#replacing null values in conversation column if in case there exist any\n",
    "fraud_df[\"Conversation\"] = fraud_df[\"Conversation\"].where((pd.notnull(fraud_df[\"Conversation\"])), '')\n",
    "fraud_df.info()\n"
   ]
  },
  {
   "cell_type": "code",
   "execution_count": 23,
   "metadata": {},
   "outputs": [
    {
     "name": "stderr",
     "output_type": "stream",
     "text": [
      "C:\\Users\\achal\\AppData\\Local\\Temp\\ipykernel_12264\\102107234.py:1: FutureWarning: A value is trying to be set on a copy of a DataFrame or Series through chained assignment using an inplace method.\n",
      "The behavior will change in pandas 3.0. This inplace method will never work because the intermediate object on which we are setting values always behaves as a copy.\n",
      "\n",
      "For example, when doing 'df[col].method(value, inplace=True)', try using 'df.method({col: value}, inplace=True)' or df[col] = df[col].method(value) instead, to perform the operation inplace on the original object.\n",
      "\n",
      "\n",
      "  fraud_df['Call Frequency Per Day'].fillna(fraud_df['Call Frequency Per Day'].median(),inplace=True)\n",
      "C:\\Users\\achal\\AppData\\Local\\Temp\\ipykernel_12264\\102107234.py:2: FutureWarning: A value is trying to be set on a copy of a DataFrame or Series through chained assignment using an inplace method.\n",
      "The behavior will change in pandas 3.0. This inplace method will never work because the intermediate object on which we are setting values always behaves as a copy.\n",
      "\n",
      "For example, when doing 'df[col].method(value, inplace=True)', try using 'df.method({col: value}, inplace=True)' or df[col] = df[col].method(value) instead, to perform the operation inplace on the original object.\n",
      "\n",
      "\n",
      "  fraud_df['Call Frequency Per Week'].fillna(fraud_df['Call Frequency Per Week'].median(),inplace=True)\n"
     ]
    }
   ],
   "source": [
    "fraud_df['Call Frequency Per Day'].fillna(fraud_df['Call Frequency Per Day'].median(),inplace=True)\n",
    "fraud_df['Call Frequency Per Week'].fillna(fraud_df['Call Frequency Per Week'].median(),inplace=True)"
   ]
  },
  {
   "cell_type": "code",
   "execution_count": 24,
   "metadata": {},
   "outputs": [
    {
     "name": "stdout",
     "output_type": "stream",
     "text": [
      "<class 'pandas.core.frame.DataFrame'>\n",
      "RangeIndex: 17590 entries, 0 to 17589\n",
      "Data columns (total 7 columns):\n",
      " #   Column                   Non-Null Count  Dtype \n",
      "---  ------                   --------------  ----- \n",
      " 0   Caller Number            17590 non-null  object\n",
      " 1   Call Time                17590 non-null  object\n",
      " 2   Call Duration(in s)      17590 non-null  int64 \n",
      " 3   Call Frequency Per Day   17590 non-null  int64 \n",
      " 4   Call Frequency Per Week  17590 non-null  int64 \n",
      " 5   Call Type                17590 non-null  object\n",
      " 6   Conversation             17590 non-null  object\n",
      "dtypes: int64(3), object(4)\n",
      "memory usage: 962.1+ KB\n"
     ]
    }
   ],
   "source": [
    "fraud_df.info()"
   ]
  },
  {
   "cell_type": "code",
   "execution_count": 25,
   "metadata": {},
   "outputs": [],
   "source": [
    "#To make sure call frequency per day is less than call frequency per week\n",
    "\n",
    "for index, row in fraud_df.iterrows():\n",
    "    if row['Call Frequency Per Day'] >= row['Call Frequency Per Week']:\n",
    "        fraud_df.at[index, 'Call Frequency Per Week'] = row['Call Frequency Per Day'] + 1"
   ]
  },
  {
   "cell_type": "code",
   "execution_count": 26,
   "metadata": {},
   "outputs": [
    {
     "name": "stdout",
     "output_type": "stream",
     "text": [
      "<class 'pandas.core.frame.DataFrame'>\n",
      "RangeIndex: 17590 entries, 0 to 17589\n",
      "Data columns (total 7 columns):\n",
      " #   Column                   Non-Null Count  Dtype \n",
      "---  ------                   --------------  ----- \n",
      " 0   Caller Number            17590 non-null  object\n",
      " 1   Call Time                17590 non-null  object\n",
      " 2   Call Duration(in s)      17590 non-null  int64 \n",
      " 3   Call Frequency Per Day   17590 non-null  int64 \n",
      " 4   Call Frequency Per Week  17590 non-null  int64 \n",
      " 5   Call Type                17590 non-null  object\n",
      " 6   Conversation             17590 non-null  object\n",
      "dtypes: int64(3), object(4)\n",
      "memory usage: 962.1+ KB\n"
     ]
    }
   ],
   "source": [
    "fraud_df.info()"
   ]
  },
  {
   "cell_type": "code",
   "execution_count": 27,
   "metadata": {},
   "outputs": [
    {
     "data": {
      "text/html": [
       "<div>\n",
       "<style scoped>\n",
       "    .dataframe tbody tr th:only-of-type {\n",
       "        vertical-align: middle;\n",
       "    }\n",
       "\n",
       "    .dataframe tbody tr th {\n",
       "        vertical-align: top;\n",
       "    }\n",
       "\n",
       "    .dataframe thead th {\n",
       "        text-align: right;\n",
       "    }\n",
       "</style>\n",
       "<table border=\"1\" class=\"dataframe\">\n",
       "  <thead>\n",
       "    <tr style=\"text-align: right;\">\n",
       "      <th></th>\n",
       "      <th>Caller Number</th>\n",
       "      <th>Call Time</th>\n",
       "      <th>Call Duration(in s)</th>\n",
       "      <th>Call Frequency Per Day</th>\n",
       "      <th>Call Frequency Per Week</th>\n",
       "      <th>Call Type</th>\n",
       "      <th>Conversation</th>\n",
       "    </tr>\n",
       "  </thead>\n",
       "  <tbody>\n",
       "    <tr>\n",
       "      <th>0</th>\n",
       "      <td>+1-508-604-1419</td>\n",
       "      <td>15:28:51</td>\n",
       "      <td>292</td>\n",
       "      <td>5</td>\n",
       "      <td>18</td>\n",
       "      <td>Normal</td>\n",
       "      <td>Hope. Since ago travelled, he has forgotten hi...</td>\n",
       "    </tr>\n",
       "    <tr>\n",
       "      <th>1</th>\n",
       "      <td>+1-718-784-6136</td>\n",
       "      <td>14:21:05</td>\n",
       "      <td>1160</td>\n",
       "      <td>5</td>\n",
       "      <td>8</td>\n",
       "      <td>Normal</td>\n",
       "      <td>Horrible you eat mass eat until u forgot about...</td>\n",
       "    </tr>\n",
       "    <tr>\n",
       "      <th>2</th>\n",
       "      <td>+1-832-572-2250</td>\n",
       "      <td>12:22:11</td>\n",
       "      <td>293</td>\n",
       "      <td>4</td>\n",
       "      <td>8</td>\n",
       "      <td>Normal</td>\n",
       "      <td>Great! I have to run now so ttyl!</td>\n",
       "    </tr>\n",
       "    <tr>\n",
       "      <th>3</th>\n",
       "      <td>+1-628-833-1234</td>\n",
       "      <td>20:32:32</td>\n",
       "      <td>502</td>\n",
       "      <td>3</td>\n",
       "      <td>6</td>\n",
       "      <td>Normal</td>\n",
       "      <td>Sorry, I'll call later</td>\n",
       "    </tr>\n",
       "    <tr>\n",
       "      <th>4</th>\n",
       "      <td>+1-628-250-9398</td>\n",
       "      <td>09:17:45</td>\n",
       "      <td>141</td>\n",
       "      <td>3</td>\n",
       "      <td>36</td>\n",
       "      <td>Normal</td>\n",
       "      <td>Jay wants to work out first, how's 4 sound?</td>\n",
       "    </tr>\n",
       "  </tbody>\n",
       "</table>\n",
       "</div>"
      ],
      "text/plain": [
       "     Caller Number Call Time  Call Duration(in s)  Call Frequency Per Day  \\\n",
       "0  +1-508-604-1419  15:28:51                  292                       5   \n",
       "1  +1-718-784-6136  14:21:05                 1160                       5   \n",
       "2  +1-832-572-2250  12:22:11                  293                       4   \n",
       "3  +1-628-833-1234  20:32:32                  502                       3   \n",
       "4  +1-628-250-9398  09:17:45                  141                       3   \n",
       "\n",
       "   Call Frequency Per Week Call Type  \\\n",
       "0                       18    Normal   \n",
       "1                        8    Normal   \n",
       "2                        8    Normal   \n",
       "3                        6    Normal   \n",
       "4                       36    Normal   \n",
       "\n",
       "                                        Conversation  \n",
       "0  Hope. Since ago travelled, he has forgotten hi...  \n",
       "1  Horrible you eat mass eat until u forgot about...  \n",
       "2                  Great! I have to run now so ttyl!  \n",
       "3                             Sorry, I'll call later  \n",
       "4        Jay wants to work out first, how's 4 sound?  "
      ]
     },
     "execution_count": 27,
     "metadata": {},
     "output_type": "execute_result"
    }
   ],
   "source": [
    "fraud_df.head()"
   ]
  },
  {
   "cell_type": "code",
   "execution_count": 28,
   "metadata": {},
   "outputs": [
    {
     "data": {
      "text/html": [
       "<div>\n",
       "<style scoped>\n",
       "    .dataframe tbody tr th:only-of-type {\n",
       "        vertical-align: middle;\n",
       "    }\n",
       "\n",
       "    .dataframe tbody tr th {\n",
       "        vertical-align: top;\n",
       "    }\n",
       "\n",
       "    .dataframe thead th {\n",
       "        text-align: right;\n",
       "    }\n",
       "</style>\n",
       "<table border=\"1\" class=\"dataframe\">\n",
       "  <thead>\n",
       "    <tr style=\"text-align: right;\">\n",
       "      <th></th>\n",
       "      <th>Caller Number</th>\n",
       "      <th>Call Time</th>\n",
       "      <th>Call Duration(in s)</th>\n",
       "      <th>Call Frequency Per Day</th>\n",
       "      <th>Call Frequency Per Week</th>\n",
       "      <th>Call Type</th>\n",
       "      <th>Conversation</th>\n",
       "    </tr>\n",
       "  </thead>\n",
       "  <tbody>\n",
       "    <tr>\n",
       "      <th>0</th>\n",
       "      <td>+1-508-604-1419</td>\n",
       "      <td>15:28:51</td>\n",
       "      <td>292</td>\n",
       "      <td>5</td>\n",
       "      <td>18</td>\n",
       "      <td>Normal</td>\n",
       "      <td>Hope. Since ago travelled, he has forgotten hi...</td>\n",
       "    </tr>\n",
       "    <tr>\n",
       "      <th>1</th>\n",
       "      <td>+1-718-784-6136</td>\n",
       "      <td>14:21:05</td>\n",
       "      <td>1160</td>\n",
       "      <td>5</td>\n",
       "      <td>8</td>\n",
       "      <td>Normal</td>\n",
       "      <td>Horrible you eat mass eat until u forgot about...</td>\n",
       "    </tr>\n",
       "    <tr>\n",
       "      <th>2</th>\n",
       "      <td>+1-832-572-2250</td>\n",
       "      <td>12:22:11</td>\n",
       "      <td>293</td>\n",
       "      <td>4</td>\n",
       "      <td>8</td>\n",
       "      <td>Normal</td>\n",
       "      <td>Great! I have to run now so ttyl!</td>\n",
       "    </tr>\n",
       "    <tr>\n",
       "      <th>3</th>\n",
       "      <td>+1-628-833-1234</td>\n",
       "      <td>20:32:32</td>\n",
       "      <td>502</td>\n",
       "      <td>3</td>\n",
       "      <td>6</td>\n",
       "      <td>Normal</td>\n",
       "      <td>Sorry, I'll call later</td>\n",
       "    </tr>\n",
       "    <tr>\n",
       "      <th>4</th>\n",
       "      <td>+1-628-250-9398</td>\n",
       "      <td>09:17:45</td>\n",
       "      <td>141</td>\n",
       "      <td>3</td>\n",
       "      <td>36</td>\n",
       "      <td>Normal</td>\n",
       "      <td>Jay wants to work out first, how's 4 sound?</td>\n",
       "    </tr>\n",
       "  </tbody>\n",
       "</table>\n",
       "</div>"
      ],
      "text/plain": [
       "     Caller Number Call Time  Call Duration(in s)  Call Frequency Per Day  \\\n",
       "0  +1-508-604-1419  15:28:51                  292                       5   \n",
       "1  +1-718-784-6136  14:21:05                 1160                       5   \n",
       "2  +1-832-572-2250  12:22:11                  293                       4   \n",
       "3  +1-628-833-1234  20:32:32                  502                       3   \n",
       "4  +1-628-250-9398  09:17:45                  141                       3   \n",
       "\n",
       "   Call Frequency Per Week Call Type  \\\n",
       "0                       18    Normal   \n",
       "1                        8    Normal   \n",
       "2                        8    Normal   \n",
       "3                        6    Normal   \n",
       "4                       36    Normal   \n",
       "\n",
       "                                        Conversation  \n",
       "0  Hope. Since ago travelled, he has forgotten hi...  \n",
       "1  Horrible you eat mass eat until u forgot about...  \n",
       "2                  Great! I have to run now so ttyl!  \n",
       "3                             Sorry, I'll call later  \n",
       "4        Jay wants to work out first, how's 4 sound?  "
      ]
     },
     "execution_count": 28,
     "metadata": {},
     "output_type": "execute_result"
    }
   ],
   "source": [
    "fraud_df = fraud_df[['Caller Number','Call Time','Call Duration(in s)','Call Frequency Per Day','Call Frequency Per Week','Call Type','Conversation']]\n",
    "fraud_df.head()"
   ]
  },
  {
   "cell_type": "code",
   "execution_count": 29,
   "metadata": {},
   "outputs": [],
   "source": [
    "# fraud_df.to_csv('corrected_names.csv',index=False)"
   ]
  },
  {
   "cell_type": "markdown",
   "metadata": {},
   "source": [
    "Correcting typo errors in the conversation column of the dataset"
   ]
  },
  {
   "cell_type": "code",
   "execution_count": 30,
   "metadata": {},
   "outputs": [],
   "source": [
    "# from textblob import TextBlob\n",
    "# from tqdm import tqdm\n",
    "\n",
    "# # Function to correct spelling\n",
    "# def correct_spelling_with_textblob(text):\n",
    "#     blob = TextBlob(text)\n",
    "#     return str(blob.correct())\n",
    "\n",
    "# # Enable the tqdm progress bar\n",
    "# tqdm.pandas()\n",
    "\n",
    "# # Apply correction function to the DataFrame column with progress bar\n",
    "# fraud_df['Conversation'] = fraud_df['Conversation'].progress_apply(correct_spelling_with_textblob)\n",
    "\n",
    "# fraud_df.to_csv('corrected_names.csv', index=False)\n",
    "\n",
    "# print(\"DataFrame saved to 'corrected_names.csv'\")\n",
    "\n"
   ]
  }
 ],
 "metadata": {
  "kernelspec": {
   "display_name": "myenv",
   "language": "python",
   "name": "python3"
  },
  "language_info": {
   "codemirror_mode": {
    "name": "ipython",
    "version": 3
   },
   "file_extension": ".py",
   "mimetype": "text/x-python",
   "name": "python",
   "nbconvert_exporter": "python",
   "pygments_lexer": "ipython3",
   "version": "3.12.7"
  }
 },
 "nbformat": 4,
 "nbformat_minor": 2
}
