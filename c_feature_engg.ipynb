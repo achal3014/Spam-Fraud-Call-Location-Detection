{
 "cells": [
  {
   "cell_type": "code",
   "execution_count": 1,
   "metadata": {},
   "outputs": [],
   "source": [
    "import numpy as np\n",
    "import pandas as pd\n",
    "# from ipynb.fs.full.data_preprocess import c_fraud_df\n",
    "c_fraud_df = pd.read_csv(\"corrected_names.csv\")\n",
    "from sklearn.preprocessing import LabelEncoder\n"
   ]
  },
  {
   "cell_type": "code",
   "execution_count": 2,
   "metadata": {},
   "outputs": [
    {
     "data": {
      "text/html": [
       "<div>\n",
       "<style scoped>\n",
       "    .dataframe tbody tr th:only-of-type {\n",
       "        vertical-align: middle;\n",
       "    }\n",
       "\n",
       "    .dataframe tbody tr th {\n",
       "        vertical-align: top;\n",
       "    }\n",
       "\n",
       "    .dataframe thead th {\n",
       "        text-align: right;\n",
       "    }\n",
       "</style>\n",
       "<table border=\"1\" class=\"dataframe\">\n",
       "  <thead>\n",
       "    <tr style=\"text-align: right;\">\n",
       "      <th></th>\n",
       "      <th>Caller Number</th>\n",
       "      <th>Call Time</th>\n",
       "      <th>Call Duration(in s)</th>\n",
       "      <th>Call Frequency Per Day</th>\n",
       "      <th>Call Frequency Per Week</th>\n",
       "      <th>Call Type</th>\n",
       "      <th>Conversation</th>\n",
       "    </tr>\n",
       "  </thead>\n",
       "  <tbody>\n",
       "    <tr>\n",
       "      <th>17585</th>\n",
       "      <td>+1-917-872-4849</td>\n",
       "      <td>10:55:01</td>\n",
       "      <td>34</td>\n",
       "      <td>15</td>\n",
       "      <td>78</td>\n",
       "      <td>Spam</td>\n",
       "      <td>Met your garden ready for summer with a FREE s...</td>\n",
       "    </tr>\n",
       "    <tr>\n",
       "      <th>17586</th>\n",
       "      <td>+1-213-425-9192</td>\n",
       "      <td>11:08:30</td>\n",
       "      <td>215</td>\n",
       "      <td>6</td>\n",
       "      <td>17</td>\n",
       "      <td>Normal</td>\n",
       "      <td>Its ok my arm is feeling weak cut i got a shot...</td>\n",
       "    </tr>\n",
       "    <tr>\n",
       "      <th>17587</th>\n",
       "      <td>+1-213-918-3803</td>\n",
       "      <td>12:10:44</td>\n",
       "      <td>414</td>\n",
       "      <td>3</td>\n",
       "      <td>9</td>\n",
       "      <td>Normal</td>\n",
       "      <td>Ouh means computational science... Y they like...</td>\n",
       "    </tr>\n",
       "    <tr>\n",
       "      <th>17588</th>\n",
       "      <td>+1-917-279-9622</td>\n",
       "      <td>12:45:11</td>\n",
       "      <td>222</td>\n",
       "      <td>3</td>\n",
       "      <td>30</td>\n",
       "      <td>Normal</td>\n",
       "      <td>Sorry, I'll call later</td>\n",
       "    </tr>\n",
       "    <tr>\n",
       "      <th>17589</th>\n",
       "      <td>+1-919-878-9435</td>\n",
       "      <td>14:12:09</td>\n",
       "      <td>223</td>\n",
       "      <td>3</td>\n",
       "      <td>19</td>\n",
       "      <td>Normal</td>\n",
       "      <td>You are a very very very very bad girl. Or lady.</td>\n",
       "    </tr>\n",
       "  </tbody>\n",
       "</table>\n",
       "</div>"
      ],
      "text/plain": [
       "         Caller Number Call Time  Call Duration(in s)  Call Frequency Per Day  \\\n",
       "17585  +1-917-872-4849  10:55:01                   34                      15   \n",
       "17586  +1-213-425-9192  11:08:30                  215                       6   \n",
       "17587  +1-213-918-3803  12:10:44                  414                       3   \n",
       "17588  +1-917-279-9622  12:45:11                  222                       3   \n",
       "17589  +1-919-878-9435  14:12:09                  223                       3   \n",
       "\n",
       "       Call Frequency Per Week Call Type  \\\n",
       "17585                       78      Spam   \n",
       "17586                       17    Normal   \n",
       "17587                        9    Normal   \n",
       "17588                       30    Normal   \n",
       "17589                       19    Normal   \n",
       "\n",
       "                                            Conversation  \n",
       "17585  Met your garden ready for summer with a FREE s...  \n",
       "17586  Its ok my arm is feeling weak cut i got a shot...  \n",
       "17587  Ouh means computational science... Y they like...  \n",
       "17588                             Sorry, I'll call later  \n",
       "17589   You are a very very very very bad girl. Or lady.  "
      ]
     },
     "execution_count": 2,
     "metadata": {},
     "output_type": "execute_result"
    }
   ],
   "source": [
    "c_fraud_df.tail()"
   ]
  },
  {
   "cell_type": "code",
   "execution_count": null,
   "metadata": {},
   "outputs": [],
   "source": []
  }
 ],
 "metadata": {
  "kernelspec": {
   "display_name": "myenv",
   "language": "python",
   "name": "python3"
  },
  "language_info": {
   "codemirror_mode": {
    "name": "ipython",
    "version": 3
   },
   "file_extension": ".py",
   "mimetype": "text/x-python",
   "name": "python",
   "nbconvert_exporter": "python",
   "pygments_lexer": "ipython3",
   "version": "3.12.7"
  }
 },
 "nbformat": 4,
 "nbformat_minor": 2
}
